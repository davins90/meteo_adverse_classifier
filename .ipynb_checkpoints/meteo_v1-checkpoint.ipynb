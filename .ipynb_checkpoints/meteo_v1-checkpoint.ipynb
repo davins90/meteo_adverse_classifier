{
 "cells": [
  {
   "cell_type": "code",
   "execution_count": 1,
   "id": "c984a929-7e14-4ed4-9a2c-5d27d400f48d",
   "metadata": {},
   "outputs": [],
   "source": [
    "import pandas as pd\n",
    "import numpy as np\n",
    "import warnings\n",
    "\n",
    "warnings.filterwarnings(\"ignore\")\n",
    "\n",
    "pd.set_option('display.max_rows',None)\n",
    "pd.set_option('display.max_columns',None)"
   ]
  },
  {
   "cell_type": "markdown",
   "id": "3fa47a71-50ad-4468-8686-a9676d5e7e1a",
   "metadata": {},
   "source": [
    "# 1.0 Data retrival\n",
    "\n",
    "Recupero i dati scaricati da arpa piemonte"
   ]
  },
  {
   "cell_type": "code",
   "execution_count": 2,
   "id": "e5a970c4-6362-4b27-b374-ec308985061d",
   "metadata": {},
   "outputs": [],
   "source": [
    "df = pd.read_excel('DOMODOSSOLA_giornalieri_1988_2021.xlsx')"
   ]
  },
  {
   "cell_type": "code",
   "execution_count": 3,
   "id": "8e809fd4-c20a-4355-96f8-6877e49b6db8",
   "metadata": {},
   "outputs": [
    {
     "data": {
      "text/plain": [
       "(12110, 15)"
      ]
     },
     "execution_count": 3,
     "metadata": {},
     "output_type": "execute_result"
    }
   ],
   "source": [
    "df.shape"
   ]
  },
  {
   "cell_type": "code",
   "execution_count": 4,
   "id": "367f397e-45e0-4a95-b4eb-c6203a1245b7",
   "metadata": {},
   "outputs": [
    {
     "data": {
      "text/html": [
       "<div>\n",
       "<style scoped>\n",
       "    .dataframe tbody tr th:only-of-type {\n",
       "        vertical-align: middle;\n",
       "    }\n",
       "\n",
       "    .dataframe tbody tr th {\n",
       "        vertical-align: top;\n",
       "    }\n",
       "\n",
       "    .dataframe thead th {\n",
       "        text-align: right;\n",
       "    }\n",
       "</style>\n",
       "<table border=\"1\" class=\"dataframe\">\n",
       "  <thead>\n",
       "    <tr style=\"text-align: right;\">\n",
       "      <th></th>\n",
       "      <th>Data</th>\n",
       "      <th>Precipitazione dalle 9 alle 9 ( mm )</th>\n",
       "      <th>Precipitazione dalle 0 alle 0 ( mm )</th>\n",
       "      <th>Temperatura media ( °C )</th>\n",
       "      <th>Temperatura massima ( °C )</th>\n",
       "      <th>Temperatura minima ( °C )</th>\n",
       "      <th>Umidita' media ( % )</th>\n",
       "      <th>Umidita' massima ( % )</th>\n",
       "      <th>Umidita' minima ( % )</th>\n",
       "      <th>Velocita' media ( m/s )</th>\n",
       "      <th>Raffica ( m/s )</th>\n",
       "      <th>Durata Calma ( min )</th>\n",
       "      <th>Settore Prevalente</th>\n",
       "      <th>Tempo Permanenza ( min )</th>\n",
       "      <th>Radiazione totale ( MJ/mq )</th>\n",
       "    </tr>\n",
       "  </thead>\n",
       "  <tbody>\n",
       "    <tr>\n",
       "      <th>0</th>\n",
       "      <td>1988-05-05</td>\n",
       "      <td>3,8</td>\n",
       "      <td>3,6</td>\n",
       "      <td>14,7</td>\n",
       "      <td>22,6</td>\n",
       "      <td>9,6</td>\n",
       "      <td>NaN</td>\n",
       "      <td>NaN</td>\n",
       "      <td>NaN</td>\n",
       "      <td>NaN</td>\n",
       "      <td>NaN</td>\n",
       "      <td>NaN</td>\n",
       "      <td>NaN</td>\n",
       "      <td>NaN</td>\n",
       "      <td>NaN</td>\n",
       "    </tr>\n",
       "  </tbody>\n",
       "</table>\n",
       "</div>"
      ],
      "text/plain": [
       "        Data Precipitazione dalle 9 alle 9 ( mm )  \\\n",
       "0 1988-05-05                                  3,8   \n",
       "\n",
       "  Precipitazione dalle 0 alle 0 ( mm ) Temperatura media ( °C )  \\\n",
       "0                                  3,6                     14,7   \n",
       "\n",
       "  Temperatura massima ( °C ) Temperatura minima ( °C )  Umidita' media ( % )  \\\n",
       "0                       22,6                       9,6                   NaN   \n",
       "\n",
       "   Umidita' massima ( % )  Umidita' minima ( % ) Velocita' media ( m/s )  \\\n",
       "0                     NaN                    NaN                     NaN   \n",
       "\n",
       "  Raffica ( m/s )  Durata Calma ( min ) Settore Prevalente  \\\n",
       "0             NaN                   NaN                NaN   \n",
       "\n",
       "   Tempo Permanenza ( min ) Radiazione totale ( MJ/mq )  \n",
       "0                       NaN                         NaN  "
      ]
     },
     "execution_count": 4,
     "metadata": {},
     "output_type": "execute_result"
    }
   ],
   "source": [
    "df.head(1)"
   ]
  },
  {
   "cell_type": "code",
   "execution_count": 5,
   "id": "811ea46f-0ac9-48db-9d21-b25276d2269a",
   "metadata": {},
   "outputs": [
    {
     "data": {
      "text/html": [
       "<div>\n",
       "<style scoped>\n",
       "    .dataframe tbody tr th:only-of-type {\n",
       "        vertical-align: middle;\n",
       "    }\n",
       "\n",
       "    .dataframe tbody tr th {\n",
       "        vertical-align: top;\n",
       "    }\n",
       "\n",
       "    .dataframe thead th {\n",
       "        text-align: right;\n",
       "    }\n",
       "</style>\n",
       "<table border=\"1\" class=\"dataframe\">\n",
       "  <thead>\n",
       "    <tr style=\"text-align: right;\">\n",
       "      <th></th>\n",
       "      <th>Data</th>\n",
       "      <th>Precipitazione dalle 9 alle 9 ( mm )</th>\n",
       "      <th>Precipitazione dalle 0 alle 0 ( mm )</th>\n",
       "      <th>Temperatura media ( °C )</th>\n",
       "      <th>Temperatura massima ( °C )</th>\n",
       "      <th>Temperatura minima ( °C )</th>\n",
       "      <th>Umidita' media ( % )</th>\n",
       "      <th>Umidita' massima ( % )</th>\n",
       "      <th>Umidita' minima ( % )</th>\n",
       "      <th>Velocita' media ( m/s )</th>\n",
       "      <th>Raffica ( m/s )</th>\n",
       "      <th>Durata Calma ( min )</th>\n",
       "      <th>Settore Prevalente</th>\n",
       "      <th>Tempo Permanenza ( min )</th>\n",
       "      <th>Radiazione totale ( MJ/mq )</th>\n",
       "    </tr>\n",
       "  </thead>\n",
       "  <tbody>\n",
       "    <tr>\n",
       "      <th>7578</th>\n",
       "      <td>2009-02-02</td>\n",
       "      <td>8,0</td>\n",
       "      <td>2,2</td>\n",
       "      <td>0,7</td>\n",
       "      <td>1,3</td>\n",
       "      <td>0,2</td>\n",
       "      <td>100.0</td>\n",
       "      <td>100.0</td>\n",
       "      <td>100.0</td>\n",
       "      <td>0,4</td>\n",
       "      <td>2,2</td>\n",
       "      <td>710.0</td>\n",
       "      <td>NaN</td>\n",
       "      <td>NaN</td>\n",
       "      <td>NaN</td>\n",
       "    </tr>\n",
       "    <tr>\n",
       "      <th>3910</th>\n",
       "      <td>1999-01-18</td>\n",
       "      <td>0,0</td>\n",
       "      <td>0,0</td>\n",
       "      <td>4,6</td>\n",
       "      <td>12,3</td>\n",
       "      <td>-1,1</td>\n",
       "      <td>69.0</td>\n",
       "      <td>87.0</td>\n",
       "      <td>38.0</td>\n",
       "      <td>1,3</td>\n",
       "      <td>3,4</td>\n",
       "      <td>50.0</td>\n",
       "      <td>N</td>\n",
       "      <td>440.0</td>\n",
       "      <td>6,0</td>\n",
       "    </tr>\n",
       "    <tr>\n",
       "      <th>851</th>\n",
       "      <td>1990-09-03</td>\n",
       "      <td>0,0</td>\n",
       "      <td>0,0</td>\n",
       "      <td>20,0</td>\n",
       "      <td>26,5</td>\n",
       "      <td>15,7</td>\n",
       "      <td>71.0</td>\n",
       "      <td>91.0</td>\n",
       "      <td>46.0</td>\n",
       "      <td>1,8</td>\n",
       "      <td>8,8</td>\n",
       "      <td>160.0</td>\n",
       "      <td>SSW</td>\n",
       "      <td>310.0</td>\n",
       "      <td>18,2</td>\n",
       "    </tr>\n",
       "  </tbody>\n",
       "</table>\n",
       "</div>"
      ],
      "text/plain": [
       "           Data Precipitazione dalle 9 alle 9 ( mm )  \\\n",
       "7578 2009-02-02                                  8,0   \n",
       "3910 1999-01-18                                  0,0   \n",
       "851  1990-09-03                                  0,0   \n",
       "\n",
       "     Precipitazione dalle 0 alle 0 ( mm ) Temperatura media ( °C )  \\\n",
       "7578                                  2,2                      0,7   \n",
       "3910                                  0,0                      4,6   \n",
       "851                                   0,0                     20,0   \n",
       "\n",
       "     Temperatura massima ( °C ) Temperatura minima ( °C )  \\\n",
       "7578                        1,3                       0,2   \n",
       "3910                       12,3                      -1,1   \n",
       "851                        26,5                      15,7   \n",
       "\n",
       "      Umidita' media ( % )  Umidita' massima ( % )  Umidita' minima ( % )  \\\n",
       "7578                 100.0                   100.0                  100.0   \n",
       "3910                  69.0                    87.0                   38.0   \n",
       "851                   71.0                    91.0                   46.0   \n",
       "\n",
       "     Velocita' media ( m/s ) Raffica ( m/s )  Durata Calma ( min )  \\\n",
       "7578                     0,4             2,2                 710.0   \n",
       "3910                     1,3             3,4                  50.0   \n",
       "851                      1,8             8,8                 160.0   \n",
       "\n",
       "     Settore Prevalente  Tempo Permanenza ( min ) Radiazione totale ( MJ/mq )  \n",
       "7578                NaN                       NaN                         NaN  \n",
       "3910                  N                     440.0                         6,0  \n",
       "851                 SSW                     310.0                        18,2  "
      ]
     },
     "execution_count": 5,
     "metadata": {},
     "output_type": "execute_result"
    }
   ],
   "source": [
    "df.sample(3)"
   ]
  },
  {
   "cell_type": "code",
   "execution_count": 8,
   "id": "753576ac-9ad2-48f3-8364-607d005e2935",
   "metadata": {},
   "outputs": [
    {
     "name": "stdout",
     "output_type": "stream",
     "text": [
      "Precipitazione dalle 9 alle 9 ( mm )\n",
      "Precipitazione dalle 0 alle 0 ( mm )\n",
      "Temperatura media ( °C )\n",
      "Temperatura massima ( °C )\n",
      "Temperatura minima ( °C )\n",
      "Velocita' media ( m/s )\n",
      "Raffica ( m/s )\n",
      "Radiazione totale ( MJ/mq )\n"
     ]
    }
   ],
   "source": [
    "for i in df:\n",
    "    if df[i].dtypes == 'object':\n",
    "        if i == 'Settore Prevalente':\n",
    "            pass\n",
    "        else:\n",
    "            print(i)\n",
    "            df[i] = df[i].str.replace(',', '.').astype(float)"
   ]
  },
  {
   "cell_type": "code",
   "execution_count": 9,
   "id": "e85a17c1-2529-4ed9-929a-1e0dc41f49b0",
   "metadata": {},
   "outputs": [
    {
     "data": {
      "text/plain": [
       "Data                                    datetime64[ns]\n",
       "Precipitazione dalle 9 alle 9 ( mm )           float64\n",
       "Precipitazione dalle 0 alle 0 ( mm )           float64\n",
       "Temperatura media ( °C )                       float64\n",
       "Temperatura massima ( °C )                     float64\n",
       "Temperatura minima ( °C )                      float64\n",
       "Umidita' media ( % )                           float64\n",
       "Umidita' massima ( % )                         float64\n",
       "Umidita' minima ( % )                          float64\n",
       "Velocita' media ( m/s )                        float64\n",
       "Raffica ( m/s )                                float64\n",
       "Durata Calma ( min )                           float64\n",
       "Settore Prevalente                              object\n",
       "Tempo Permanenza ( min )                       float64\n",
       "Radiazione totale ( MJ/mq )                    float64\n",
       "dtype: object"
      ]
     },
     "execution_count": 9,
     "metadata": {},
     "output_type": "execute_result"
    }
   ],
   "source": [
    "df.dtypes"
   ]
  },
  {
   "cell_type": "code",
   "execution_count": 11,
   "id": "8914f5af-3cee-469a-a471-888dfac3ae57",
   "metadata": {},
   "outputs": [
    {
     "data": {
      "text/plain": [
       "<AxesSubplot:>"
      ]
     },
     "execution_count": 11,
     "metadata": {},
     "output_type": "execute_result"
    },
    {
     "data": {
      "image/png": "[encoded data removed]",
      "text/plain": [
       "<Figure size 432x288 with 1 Axes>"
      ]
     },
     "metadata": {
      "needs_background": "light"
     },
     "output_type": "display_data"
    }
   ],
   "source": [
    "df['Precipitazione dalle 0 alle 0 ( mm )'].hist()"
   ]
  },
  {
   "cell_type": "code",
   "execution_count": 12,
   "id": "edfd9b6d-61d8-4593-b7b7-a8914a25f40d",
   "metadata": {},
   "outputs": [
    {
     "data": {
      "text/html": [
       "<div>\n",
       "<style scoped>\n",
       "    .dataframe tbody tr th:only-of-type {\n",
       "        vertical-align: middle;\n",
       "    }\n",
       "\n",
       "    .dataframe tbody tr th {\n",
       "        vertical-align: top;\n",
       "    }\n",
       "\n",
       "    .dataframe thead th {\n",
       "        text-align: right;\n",
       "    }\n",
       "</style>\n",
       "<table border=\"1\" class=\"dataframe\">\n",
       "  <thead>\n",
       "    <tr style=\"text-align: right;\">\n",
       "      <th></th>\n",
       "      <th>Data</th>\n",
       "      <th>Precipitazione dalle 9 alle 9 ( mm )</th>\n",
       "      <th>Precipitazione dalle 0 alle 0 ( mm )</th>\n",
       "      <th>Temperatura media ( °C )</th>\n",
       "      <th>Temperatura massima ( °C )</th>\n",
       "      <th>Temperatura minima ( °C )</th>\n",
       "      <th>Umidita' media ( % )</th>\n",
       "      <th>Umidita' massima ( % )</th>\n",
       "      <th>Umidita' minima ( % )</th>\n",
       "      <th>Velocita' media ( m/s )</th>\n",
       "      <th>Raffica ( m/s )</th>\n",
       "      <th>Durata Calma ( min )</th>\n",
       "      <th>Settore Prevalente</th>\n",
       "      <th>Tempo Permanenza ( min )</th>\n",
       "      <th>Radiazione totale ( MJ/mq )</th>\n",
       "    </tr>\n",
       "  </thead>\n",
       "  <tbody>\n",
       "    <tr>\n",
       "      <th>1969</th>\n",
       "      <td>1993-09-25</td>\n",
       "      <td>96.2</td>\n",
       "      <td>173.6</td>\n",
       "      <td>13.3</td>\n",
       "      <td>14.6</td>\n",
       "      <td>11.6</td>\n",
       "      <td>100.0</td>\n",
       "      <td>100.0</td>\n",
       "      <td>100.0</td>\n",
       "      <td>0.6</td>\n",
       "      <td>3.3</td>\n",
       "      <td>530.0</td>\n",
       "      <td>S</td>\n",
       "      <td>180.0</td>\n",
       "      <td>2.6</td>\n",
       "    </tr>\n",
       "    <tr>\n",
       "      <th>4522</th>\n",
       "      <td>2000-09-21</td>\n",
       "      <td>NaN</td>\n",
       "      <td>209.6</td>\n",
       "      <td>15.7</td>\n",
       "      <td>NaN</td>\n",
       "      <td>NaN</td>\n",
       "      <td>67.0</td>\n",
       "      <td>NaN</td>\n",
       "      <td>NaN</td>\n",
       "      <td>2.6</td>\n",
       "      <td>NaN</td>\n",
       "      <td>50.0</td>\n",
       "      <td>NNE</td>\n",
       "      <td>620.0</td>\n",
       "      <td>16.3</td>\n",
       "    </tr>\n",
       "    <tr>\n",
       "      <th>4547</th>\n",
       "      <td>2000-10-16</td>\n",
       "      <td>NaN</td>\n",
       "      <td>158.4</td>\n",
       "      <td>9.2</td>\n",
       "      <td>NaN</td>\n",
       "      <td>NaN</td>\n",
       "      <td>100.0</td>\n",
       "      <td>NaN</td>\n",
       "      <td>NaN</td>\n",
       "      <td>0.7</td>\n",
       "      <td>NaN</td>\n",
       "      <td>320.0</td>\n",
       "      <td>NaN</td>\n",
       "      <td>NaN</td>\n",
       "      <td>NaN</td>\n",
       "    </tr>\n",
       "    <tr>\n",
       "      <th>5145</th>\n",
       "      <td>2002-06-06</td>\n",
       "      <td>108.0</td>\n",
       "      <td>150.4</td>\n",
       "      <td>13.0</td>\n",
       "      <td>16.9</td>\n",
       "      <td>8.7</td>\n",
       "      <td>91.0</td>\n",
       "      <td>99.0</td>\n",
       "      <td>74.0</td>\n",
       "      <td>0.9</td>\n",
       "      <td>4.6</td>\n",
       "      <td>120.0</td>\n",
       "      <td>N</td>\n",
       "      <td>300.0</td>\n",
       "      <td>8.1</td>\n",
       "    </tr>\n",
       "    <tr>\n",
       "      <th>5309</th>\n",
       "      <td>2002-11-17</td>\n",
       "      <td>76.4</td>\n",
       "      <td>159.0</td>\n",
       "      <td>8.6</td>\n",
       "      <td>11.3</td>\n",
       "      <td>7.8</td>\n",
       "      <td>98.0</td>\n",
       "      <td>99.0</td>\n",
       "      <td>97.0</td>\n",
       "      <td>0.7</td>\n",
       "      <td>2.9</td>\n",
       "      <td>270.0</td>\n",
       "      <td>NaN</td>\n",
       "      <td>NaN</td>\n",
       "      <td>2.2</td>\n",
       "    </tr>\n",
       "    <tr>\n",
       "      <th>11839</th>\n",
       "      <td>2020-10-03</td>\n",
       "      <td>202.6</td>\n",
       "      <td>161.4</td>\n",
       "      <td>13.7</td>\n",
       "      <td>19.6</td>\n",
       "      <td>9.9</td>\n",
       "      <td>85.0</td>\n",
       "      <td>96.0</td>\n",
       "      <td>61.0</td>\n",
       "      <td>1.2</td>\n",
       "      <td>17.0</td>\n",
       "      <td>150.0</td>\n",
       "      <td>SSE</td>\n",
       "      <td>200.0</td>\n",
       "      <td>4.8</td>\n",
       "    </tr>\n",
       "  </tbody>\n",
       "</table>\n",
       "</div>"
      ],
      "text/plain": [
       "            Data  Precipitazione dalle 9 alle 9 ( mm )  \\\n",
       "1969  1993-09-25                                  96.2   \n",
       "4522  2000-09-21                                   NaN   \n",
       "4547  2000-10-16                                   NaN   \n",
       "5145  2002-06-06                                 108.0   \n",
       "5309  2002-11-17                                  76.4   \n",
       "11839 2020-10-03                                 202.6   \n",
       "\n",
       "       Precipitazione dalle 0 alle 0 ( mm )  Temperatura media ( °C )  \\\n",
       "1969                                  173.6                      13.3   \n",
       "4522                                  209.6                      15.7   \n",
       "4547                                  158.4                       9.2   \n",
       "5145                                  150.4                      13.0   \n",
       "5309                                  159.0                       8.6   \n",
       "11839                                 161.4                      13.7   \n",
       "\n",
       "       Temperatura massima ( °C )  Temperatura minima ( °C )  \\\n",
       "1969                         14.6                       11.6   \n",
       "4522                          NaN                        NaN   \n",
       "4547                          NaN                        NaN   \n",
       "5145                         16.9                        8.7   \n",
       "5309                         11.3                        7.8   \n",
       "11839                        19.6                        9.9   \n",
       "\n",
       "       Umidita' media ( % )  Umidita' massima ( % )  Umidita' minima ( % )  \\\n",
       "1969                  100.0                   100.0                  100.0   \n",
       "4522                   67.0                     NaN                    NaN   \n",
       "4547                  100.0                     NaN                    NaN   \n",
       "5145                   91.0                    99.0                   74.0   \n",
       "5309                   98.0                    99.0                   97.0   \n",
       "11839                  85.0                    96.0                   61.0   \n",
       "\n",
       "       Velocita' media ( m/s )  Raffica ( m/s )  Durata Calma ( min )  \\\n",
       "1969                       0.6              3.3                 530.0   \n",
       "4522                       2.6              NaN                  50.0   \n",
       "4547                       0.7              NaN                 320.0   \n",
       "5145                       0.9              4.6                 120.0   \n",
       "5309                       0.7              2.9                 270.0   \n",
       "11839                      1.2             17.0                 150.0   \n",
       "\n",
       "      Settore Prevalente  Tempo Permanenza ( min )  \\\n",
       "1969                   S                     180.0   \n",
       "4522                 NNE                     620.0   \n",
       "4547                 NaN                       NaN   \n",
       "5145                   N                     300.0   \n",
       "5309                 NaN                       NaN   \n",
       "11839                SSE                     200.0   \n",
       "\n",
       "       Radiazione totale ( MJ/mq )  \n",
       "1969                           2.6  \n",
       "4522                          16.3  \n",
       "4547                           NaN  \n",
       "5145                           8.1  \n",
       "5309                           2.2  \n",
       "11839                          4.8  "
      ]
     },
     "execution_count": 12,
     "metadata": {},
     "output_type": "execute_result"
    }
   ],
   "source": [
    "df[df['Precipitazione dalle 0 alle 0 ( mm )']>150]"
   ]
  },
  {
   "cell_type": "code",
   "execution_count": 13,
   "id": "171acba8-d693-4352-b8f3-1588fb2e17bd",
   "metadata": {},
   "outputs": [],
   "source": [
    "df['prec_tot'] = df['Precipitazione dalle 0 alle 0 ( mm )'] + df['Precipitazione dalle 9 alle 9 ( mm )']"
   ]
  },
  {
   "cell_type": "code",
   "execution_count": 14,
   "id": "06760f77-0ca2-4701-a655-295ce09e9a56",
   "metadata": {},
   "outputs": [
    {
     "data": {
      "text/plain": [
       "<AxesSubplot:>"
      ]
     },
     "execution_count": 14,
     "metadata": {},
     "output_type": "execute_result"
    },
    {
     "data": {
      "image/png": "[encoded data removed]",
      "text/plain": [
       "<Figure size 432x288 with 1 Axes>"
      ]
     },
     "metadata": {
      "needs_background": "light"
     },
     "output_type": "display_data"
    }
   ],
   "source": [
    "df['prec_tot'].hist()"
   ]
  },
  {
   "cell_type": "code",
   "execution_count": 17,
   "id": "b657338a-9118-4534-a0d9-f7b6d0ff438f",
   "metadata": {},
   "outputs": [],
   "source": [
    "# df[df['prec_tot']>200]"
   ]
  },
  {
   "cell_type": "code",
   "execution_count": 18,
   "id": "6e381185-d1cf-4c61-abec-d196d89b4eda",
   "metadata": {},
   "outputs": [],
   "source": [
    "df['day'] = df['Data'].dt.day\n",
    "df['month'] = df['Data'].dt.month\n",
    "df['year'] = df['Data'].dt.year"
   ]
  },
  {
   "cell_type": "code",
   "execution_count": 19,
   "id": "06781da9-fe81-413a-8c85-f6e1d9ca113e",
   "metadata": {},
   "outputs": [
    {
     "data": {
      "text/html": [
       "<div>\n",
       "<style scoped>\n",
       "    .dataframe tbody tr th:only-of-type {\n",
       "        vertical-align: middle;\n",
       "    }\n",
       "\n",
       "    .dataframe tbody tr th {\n",
       "        vertical-align: top;\n",
       "    }\n",
       "\n",
       "    .dataframe thead th {\n",
       "        text-align: right;\n",
       "    }\n",
       "</style>\n",
       "<table border=\"1\" class=\"dataframe\">\n",
       "  <thead>\n",
       "    <tr style=\"text-align: right;\">\n",
       "      <th></th>\n",
       "      <th>Data</th>\n",
       "      <th>Precipitazione dalle 9 alle 9 ( mm )</th>\n",
       "      <th>Precipitazione dalle 0 alle 0 ( mm )</th>\n",
       "      <th>Temperatura media ( °C )</th>\n",
       "      <th>Temperatura massima ( °C )</th>\n",
       "      <th>Temperatura minima ( °C )</th>\n",
       "      <th>Umidita' media ( % )</th>\n",
       "      <th>Umidita' massima ( % )</th>\n",
       "      <th>Umidita' minima ( % )</th>\n",
       "      <th>Velocita' media ( m/s )</th>\n",
       "      <th>Raffica ( m/s )</th>\n",
       "      <th>Durata Calma ( min )</th>\n",
       "      <th>Settore Prevalente</th>\n",
       "      <th>Tempo Permanenza ( min )</th>\n",
       "      <th>Radiazione totale ( MJ/mq )</th>\n",
       "      <th>prec_tot</th>\n",
       "      <th>day</th>\n",
       "      <th>month</th>\n",
       "      <th>year</th>\n",
       "    </tr>\n",
       "  </thead>\n",
       "  <tbody>\n",
       "    <tr>\n",
       "      <th>0</th>\n",
       "      <td>1988-05-05</td>\n",
       "      <td>3.8</td>\n",
       "      <td>3.6</td>\n",
       "      <td>14.7</td>\n",
       "      <td>22.6</td>\n",
       "      <td>9.6</td>\n",
       "      <td>NaN</td>\n",
       "      <td>NaN</td>\n",
       "      <td>NaN</td>\n",
       "      <td>NaN</td>\n",
       "      <td>NaN</td>\n",
       "      <td>NaN</td>\n",
       "      <td>NaN</td>\n",
       "      <td>NaN</td>\n",
       "      <td>NaN</td>\n",
       "      <td>7.4</td>\n",
       "      <td>5</td>\n",
       "      <td>5</td>\n",
       "      <td>1988</td>\n",
       "    </tr>\n",
       "  </tbody>\n",
       "</table>\n",
       "</div>"
      ],
      "text/plain": [
       "        Data  Precipitazione dalle 9 alle 9 ( mm )  \\\n",
       "0 1988-05-05                                   3.8   \n",
       "\n",
       "   Precipitazione dalle 0 alle 0 ( mm )  Temperatura media ( °C )  \\\n",
       "0                                   3.6                      14.7   \n",
       "\n",
       "   Temperatura massima ( °C )  Temperatura minima ( °C )  \\\n",
       "0                        22.6                        9.6   \n",
       "\n",
       "   Umidita' media ( % )  Umidita' massima ( % )  Umidita' minima ( % )  \\\n",
       "0                   NaN                     NaN                    NaN   \n",
       "\n",
       "   Velocita' media ( m/s )  Raffica ( m/s )  Durata Calma ( min )  \\\n",
       "0                      NaN              NaN                   NaN   \n",
       "\n",
       "  Settore Prevalente  Tempo Permanenza ( min )  Radiazione totale ( MJ/mq )  \\\n",
       "0                NaN                       NaN                          NaN   \n",
       "\n",
       "   prec_tot  day  month  year  \n",
       "0       7.4    5      5  1988  "
      ]
     },
     "execution_count": 19,
     "metadata": {},
     "output_type": "execute_result"
    }
   ],
   "source": [
    "df.head(1)"
   ]
  },
  {
   "cell_type": "code",
   "execution_count": 22,
   "id": "7cbdabe6-d3ad-41b7-a6dd-7d3293693b5a",
   "metadata": {},
   "outputs": [
    {
     "data": {
      "text/plain": [
       "month\n",
       "1      3.919556\n",
       "2      3.662648\n",
       "3      4.671429\n",
       "4     10.345657\n",
       "5     10.957771\n",
       "6      7.980348\n",
       "7      5.618424\n",
       "8      6.935025\n",
       "9      8.251983\n",
       "10     9.529626\n",
       "11    12.442116\n",
       "12     4.753242\n",
       "Name: prec_tot, dtype: float64"
      ]
     },
     "execution_count": 22,
     "metadata": {},
     "output_type": "execute_result"
    }
   ],
   "source": [
    "df.groupby('month')['prec_tot'].mean()"
   ]
  },
  {
   "cell_type": "code",
   "execution_count": null,
   "id": "0ea93ed5-a851-4d7e-8571-effcb8a3372e",
   "metadata": {},
   "outputs": [],
   "source": []
  }
 ],
 "metadata": {
  "kernelspec": {
   "display_name": "Python 3.7.3 64-bit",
   "language": "python",
   "name": "python37364bitf15ffc4a8398405aa0d2ca018641a255"
  },
  "language_info": {
   "codemirror_mode": {
    "name": "ipython",
    "version": 3
   },
   "file_extension": ".py",
   "mimetype": "text/x-python",
   "name": "python",
   "nbconvert_exporter": "python",
   "pygments_lexer": "ipython3",
   "version": "3.7.3"
  }
 },
 "nbformat": 4,
 "nbformat_minor": 5
}
