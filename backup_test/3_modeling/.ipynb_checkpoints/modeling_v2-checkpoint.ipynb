{
 "cells": [
  {
   "cell_type": "code",
   "execution_count": 10,
   "id": "9e2cf0b1-29b7-4dac-83a5-ccc049eaaea5",
   "metadata": {},
   "outputs": [],
   "source": [
    "from numpy import mean\n",
    "from numpy import std\n",
    "from sklearn.datasets import make_classification\n",
    "from sklearn.model_selection import cross_val_score\n",
    "from sklearn.model_selection import RepeatedStratifiedKFold\n",
    "from sklearn.preprocessing import MinMaxScaler\n",
    "from sklearn.linear_model import LogisticRegression\n",
    "from sklearn.pipeline import Pipeline\n",
    "# define dataset\n",
    "X, y = make_classification(n_samples=381, n_features=20, n_informative=15, n_redundant=5, random_state=7)"
   ]
  },
  {
   "cell_type": "code",
   "execution_count": 2,
   "id": "94234a3f-f200-44e0-bafa-4e252c501fff",
   "metadata": {},
   "outputs": [],
   "source": [
    "# define the pipeline\n",
    "steps = list()\n",
    "steps.append(('scaler', MinMaxScaler()))\n",
    "steps.append(('model', LogisticRegression()))\n",
    "pipeline = Pipeline(steps=steps)"
   ]
  },
  {
   "cell_type": "code",
   "execution_count": 3,
   "id": "2ceb10af-54db-4026-8680-5423a913f456",
   "metadata": {},
   "outputs": [],
   "source": [
    "# define the evaluation procedure\n",
    "cv = RepeatedStratifiedKFold(n_splits=10, n_repeats=3, random_state=1)"
   ]
  },
  {
   "cell_type": "code",
   "execution_count": 4,
   "id": "d7767d5a-703f-439e-8739-be0651fce9f3",
   "metadata": {},
   "outputs": [],
   "source": [
    "# evaluate the model using cross-validation\n",
    "scores = cross_val_score(pipeline, X, y, scoring='accuracy', cv=cv, n_jobs=1)"
   ]
  },
  {
   "cell_type": "code",
   "execution_count": 5,
   "id": "b9f8a802-689e-430a-92b3-417c5bae4baa",
   "metadata": {},
   "outputs": [
    {
     "name": "stdout",
     "output_type": "stream",
     "text": [
      "Accuracy: 85.433 (3.471)\n"
     ]
    }
   ],
   "source": [
    "# report performance\n",
    "print('Accuracy: %.3f (%.3f)' % (mean(scores)*100, std(scores)*100))"
   ]
  },
  {
   "cell_type": "markdown",
   "id": "fa029ae3-548f-4796-9c7f-2c8846c0c3ec",
   "metadata": {},
   "source": [
    "--------------"
   ]
  },
  {
   "cell_type": "code",
   "execution_count": 427,
   "id": "a15c0198-654a-42b8-99ee-50f0cb25891d",
   "metadata": {},
   "outputs": [],
   "source": [
    "import pandas as pd\n",
    "import numpy as np\n",
    "import matplotlib.pyplot as plt\n",
    "import warnings\n",
    "import pickle\n",
    "\n",
    "from sklearn.impute import KNNImputer\n",
    "from sklearn.pipeline import Pipeline\n",
    "from sklearn.preprocessing import MinMaxScaler\n",
    "from scipy.stats import beta\n",
    "from sklearn.model_selection import cross_val_score\n",
    "from sklearn.model_selection import RepeatedStratifiedKFold\n",
    "from sklearn.ensemble import GradientBoostingClassifier\n",
    "# from sklearn.base import BaseEstimator, TransformerMixin\n",
    "# from sklearn.pipeline import FeatureUnion\n",
    "# from sklearn.preprocessing import FunctionTransformer\n",
    "from sklearn.model_selection import train_test_split\n",
    "from sklearn.model_selection import GridSearchCV\n",
    "from sklearn import metrics\n",
    "from sklearn.metrics import *\n",
    "\n",
    "warnings.filterwarnings(\"ignore\")\n",
    "\n",
    "pd.set_option('display.max_rows',None)\n",
    "pd.set_option('display.max_columns',None)"
   ]
  },
  {
   "cell_type": "code",
   "execution_count": 428,
   "id": "8a09b557-bbb7-4fc4-ba18-a307f862cd03",
   "metadata": {},
   "outputs": [],
   "source": [
    "df = pd.read_pickle('../output/df_prep.pkl')"
   ]
  },
  {
   "cell_type": "markdown",
   "id": "1766c84d-39cc-4650-8b40-9eeb97fadb2d",
   "metadata": {},
   "source": [
    "Train/Test split"
   ]
  },
  {
   "cell_type": "code",
   "execution_count": 429,
   "id": "24723b0d-ca2f-42cf-9f3a-f1c889768234",
   "metadata": {},
   "outputs": [],
   "source": [
    "X = df.drop(columns=['anticipatore','evento_estremo']).values\n",
    "y = df['anticipatore'].values"
   ]
  },
  {
   "cell_type": "code",
   "execution_count": 430,
   "id": "816903e4-9809-4989-93ba-15322478114c",
   "metadata": {},
   "outputs": [],
   "source": [
    "X_train, X_test, y_train, y_test = train_test_split(X, y , test_size = 0.1 , random_state = 1)"
   ]
  },
  {
   "cell_type": "code",
   "execution_count": 431,
   "id": "78036eb2-c562-4f40-a24b-8eb6eb8e47de",
   "metadata": {},
   "outputs": [],
   "source": [
    "# define the pipeline\n",
    "steps = list()\n",
    "steps.append(('imputation',KNNImputer(n_neighbors=5,weights='distance')))\n",
    "steps.append(('scaler', MinMaxScaler()))\n",
    "steps.append(('model', GradientBoostingClassifier(random_state=1)))\n",
    "pipeline = Pipeline(steps=steps)"
   ]
  },
  {
   "cell_type": "code",
   "execution_count": 432,
   "id": "2c4d0d5e-5ac8-44bf-bfc0-c5c161bb5ce8",
   "metadata": {},
   "outputs": [],
   "source": [
    "parameters = {\n",
    "    'imputation__n_neighbors':[3,5,10],\n",
    "    'model__learning_rate':[0.05,0.1,0.5]\n",
    "}"
   ]
  },
  {
   "cell_type": "code",
   "execution_count": 433,
   "id": "c3ee7026-c9f7-461b-9a81-0ab5d41eb187",
   "metadata": {},
   "outputs": [],
   "source": [
    "k = RepeatedStratifiedKFold(n_splits=3, n_repeats=3, random_state=1)"
   ]
  },
  {
   "cell_type": "code",
   "execution_count": 434,
   "id": "10cb4885-3921-47a9-aef9-44a689c2bd1b",
   "metadata": {},
   "outputs": [],
   "source": [
    "cv = GridSearchCV(pipeline,param_grid=parameters,cv=k,scoring='f1').fit(X_train, y_train)"
   ]
  },
  {
   "cell_type": "code",
   "execution_count": 435,
   "id": "1821c528-563b-484f-a353-105bc57ffcd7",
   "metadata": {},
   "outputs": [
    {
     "data": {
      "text/plain": [
       "{'imputation__n_neighbors': 3, 'model__learning_rate': 0.5}"
      ]
     },
     "execution_count": 435,
     "metadata": {},
     "output_type": "execute_result"
    }
   ],
   "source": [
    "cv.best_params_"
   ]
  },
  {
   "cell_type": "code",
   "execution_count": 436,
   "id": "0710f010-e628-4c74-921f-c43b390718d3",
   "metadata": {},
   "outputs": [
    {
     "data": {
      "text/plain": [
       "0.9202711536436817"
      ]
     },
     "execution_count": 436,
     "metadata": {},
     "output_type": "execute_result"
    }
   ],
   "source": [
    "cv.best_score_"
   ]
  },
  {
   "cell_type": "code",
   "execution_count": 437,
   "id": "c2f57c3d-71d3-4dfb-9a21-f06abb3c20f0",
   "metadata": {},
   "outputs": [
    {
     "name": "stdout",
     "output_type": "stream",
     "text": [
      "Best Estimator: \n",
      "Pipeline(steps=[('imputation', KNNImputer(n_neighbors=3, weights='distance')),\n",
      "                ('scaler', MinMaxScaler()),\n",
      "                ('model',\n",
      "                 GradientBoostingClassifier(learning_rate=0.5,\n",
      "                                            random_state=1))])\n",
      "\n",
      "Best Parameters: \n",
      "{'imputation__n_neighbors': 3, 'model__learning_rate': 0.5}\n",
      "\n",
      "Best Test Score: \n",
      "0.9202711536436817\n",
      "\n",
      "Mean Test Scores: \n",
      "[0.91017029 0.91397989 0.92027115 0.90731071 0.91240257 0.91409481\n",
      " 0.90196548 0.90652858 0.91453811]\n",
      "\n"
     ]
    }
   ],
   "source": [
    "print(\"Best Estimator: \\n{}\\n\".format(cv.best_estimator_))\n",
    "print(\"Best Parameters: \\n{}\\n\".format(cv.best_params_))\n",
    "print(\"Best Test Score: \\n{}\\n\".format(cv.best_score_))\n",
    "print(\"Mean Test Scores: \\n{}\\n\".format(cv.cv_results_['mean_test_score']))"
   ]
  },
  {
   "cell_type": "code",
   "execution_count": 438,
   "id": "a107775f-4810-42a3-b763-52bd8764ce7b",
   "metadata": {},
   "outputs": [],
   "source": [
    "## SIMPLY CROSS-VALIDATION\n",
    "# scores = cross_val_score(pipeline, X_train, y_train, scoring='f1', cv=cv, n_jobs=1)\n",
    "# scores\n",
    "# print('F1: %.3f (%.3f)' % (mean(scores), std(scores)))"
   ]
  },
  {
   "cell_type": "markdown",
   "id": "dcb405ec-75c4-4f66-b0c0-303a539b9464",
   "metadata": {},
   "source": [
    "Check distribution shift! Two alternatives:\n",
    "- adversarial validation\n",
    "- histrogram check"
   ]
  },
  {
   "cell_type": "code",
   "execution_count": 439,
   "id": "ece7e0cc-ced3-4be4-a934-31663d8b1ea3",
   "metadata": {},
   "outputs": [],
   "source": [
    "def return_intersection(hist_1, hist_2):\n",
    "    minima = np.minimum(hist_1, hist_2)\n",
    "    intersection = np.true_divide(np.sum(minima), np.sum(hist_2))\n",
    "    return intersection"
   ]
  },
  {
   "cell_type": "code",
   "execution_count": 440,
   "id": "f6f849b7-9923-46a4-8934-3990d9c5220a",
   "metadata": {},
   "outputs": [],
   "source": [
    "h1 = pd.DataFrame(X_train)\n",
    "h2 = pd.DataFrame(X_test)"
   ]
  },
  {
   "cell_type": "code",
   "execution_count": 441,
   "id": "2be01db7-832f-4d8a-bfbc-cc12567c248c",
   "metadata": {},
   "outputs": [],
   "source": [
    "h1 = h1.replace('nan',np.nan)\n",
    "h2 = h2.replace('nan',np.nan)\n",
    "h1 = h1.fillna(0.0)\n",
    "h2 = h2.fillna(0.0)\n",
    "# h1 = h1.astype(float)\n",
    "# h2 = h2.astype(float)"
   ]
  },
  {
   "cell_type": "code",
   "execution_count": 442,
   "id": "98546e5e-9c01-4c27-ac19-587c599ccc3b",
   "metadata": {},
   "outputs": [],
   "source": [
    "# h1 = h1.apply(lambda x: x / x.max())\n",
    "# h2 = h2.apply(lambda x: x / x.max())"
   ]
  },
  {
   "cell_type": "code",
   "execution_count": 443,
   "id": "6abc9240-bba5-44a1-bfe8-70808880eca3",
   "metadata": {},
   "outputs": [
    {
     "name": "stdout",
     "output_type": "stream",
     "text": [
      "0.5121184114113889\n"
     ]
    }
   ],
   "source": [
    "inters = []\n",
    "for i in zip(h1,h2):\n",
    "    h1[i[0]] = h1[i[0]].astype(float)\n",
    "    h2[i[1]] = h2[i[1]].astype(float)\n",
    "    max1 = np.max(h1[i[0]])\n",
    "    max2 = np.max(h2[i[1]])\n",
    "    inter = return_intersection(h1[i[0]],h2[i[1]])\n",
    "    inters.append(inter)\n",
    "print(np.mean(inters))"
   ]
  },
  {
   "cell_type": "code",
   "execution_count": 444,
   "id": "a21fff02-efab-44ff-91fd-e894a561c8e7",
   "metadata": {},
   "outputs": [],
   "source": [
    "# for i in zip(h1,h2):\n",
    "#     plt.figure(i[0])\n",
    "#     h1[i[0]].hist(density=True)\n",
    "#     h2[i[1]].hist(density=True)"
   ]
  },
  {
   "cell_type": "markdown",
   "id": "49eb0e7e-59cd-43d2-be16-f2c79eaeb1a8",
   "metadata": {},
   "source": [
    "Let's assume train and test do not present \"too much\" distribution shift!"
   ]
  },
  {
   "cell_type": "markdown",
   "id": "2fef76b3-2afc-40a7-9c32-36c93a0f8914",
   "metadata": {},
   "source": [
    "Test set"
   ]
  },
  {
   "cell_type": "code",
   "execution_count": 445,
   "id": "3ac0fc5d-ee50-4876-b6f3-0be312580865",
   "metadata": {},
   "outputs": [
    {
     "name": "stdout",
     "output_type": "stream",
     "text": [
      "Model Test Recall: 0.8947368421052632\n",
      "--------------------------------------------------\n",
      "Model Test Precision: 0.9444444444444444\n",
      "--------------------------------------------------\n",
      "Model Test F1: 0.918918918918919\n",
      "--------------------------------------------------\n",
      "Model Test Accuracy: 0.918918918918919\n",
      "--------------------------------------------------\n",
      "Model Confusion Matrix\n"
     ]
    },
    {
     "data": {
      "image/png": "[encoded data removed]",
      "text/plain": [
       "<Figure size 432x288 with 2 Axes>"
      ]
     },
     "metadata": {
      "needs_background": "light"
     },
     "output_type": "display_data"
    }
   ],
   "source": [
    "y_test_predict_grid = cv.predict(X_test)\n",
    "print(\"Model Test Recall:\", metrics.recall_score(y_test, y_test_predict_grid))\n",
    "print('--------------------------------------------------')\n",
    "print(\"Model Test Precision:\", metrics.precision_score(y_test, y_test_predict_grid))\n",
    "print('--------------------------------------------------')\n",
    "print(\"Model Test F1:\", metrics.f1_score(y_test, y_test_predict_grid))\n",
    "print('--------------------------------------------------')\n",
    "print(\"Model Test Accuracy:\", metrics.accuracy_score(y_test, y_test_predict_grid))\n",
    "print('--------------------------------------------------')\n",
    "print('Model Confusion Matrix')\n",
    "cm = confusion_matrix(y_test,y_test_predict_grid,normalize=None) # 'pred','true' altri parametri per il campo \"normalize\"\n",
    "cmd = ConfusionMatrixDisplay(cm,display_labels=['No Anticipatore','Sì Anticipatore']).plot()"
   ]
  },
  {
   "cell_type": "markdown",
   "id": "f53dbdef-fa25-4044-a1cd-f547f0ec1eba",
   "metadata": {},
   "source": [
    "Save pipeline for future prediction"
   ]
  },
  {
   "cell_type": "code",
   "execution_count": 446,
   "id": "26c6305d-55ad-46f6-9d17-03f697d4ebc3",
   "metadata": {},
   "outputs": [],
   "source": [
    "with open('meteo_adversity_anticipator.pkl','wb') as file:\n",
    "    pickle.dump(cv, file)"
   ]
  },
  {
   "cell_type": "code",
   "execution_count": null,
   "id": "c92bfb9c-46fa-49b9-add2-3466cf524051",
   "metadata": {},
   "outputs": [],
   "source": []
  }
 ],
 "metadata": {
  "kernelspec": {
   "display_name": "Python 3.7.3 64-bit",
   "language": "python",
   "name": "python37364bitf15ffc4a8398405aa0d2ca018641a255"
  },
  "language_info": {
   "codemirror_mode": {
    "name": "ipython",
    "version": 3
   },
   "file_extension": ".py",
   "mimetype": "text/x-python",
   "name": "python",
   "nbconvert_exporter": "python",
   "pygments_lexer": "ipython3",
   "version": "3.7.3"
  }
 },
 "nbformat": 4,
 "nbformat_minor": 5
}
