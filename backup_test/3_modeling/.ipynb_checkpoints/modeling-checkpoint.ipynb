{
 "cells": [
  {
   "cell_type": "code",
   "execution_count": 1,
   "id": "cc09a395-2c33-48a4-912c-206c8825a4e9",
   "metadata": {},
   "outputs": [
    {
     "name": "stderr",
     "output_type": "stream",
     "text": [
      "Using TensorFlow backend.\n"
     ]
    }
   ],
   "source": [
    "import pandas as pd\n",
    "import numpy as np\n",
    "import warnings\n",
    "import pickle\n",
    "\n",
    "from fancyimpute import *\n",
    "from sklearn.pipeline import Pipeline\n",
    "from sklearn.preprocessing import MinMaxScaler\n",
    "from scipy.stats import beta\n",
    "from sklearn.model_selection import cross_val_score\n",
    "from sklearn.model_selection import RepeatedStratifiedKFold\n",
    "from sklearn.ensemble import GradientBoostingClassifier\n",
    "from sklearn.base import BaseEstimator, TransformerMixin\n",
    "from sklearn.pipeline import FeatureUnion\n",
    "from sklearn.preprocessing import FunctionTransformer\n",
    "\n",
    "warnings.filterwarnings(\"ignore\")\n",
    "\n",
    "pd.set_option('display.max_rows',None)\n",
    "pd.set_option('display.max_columns',None)"
   ]
  },
  {
   "cell_type": "markdown",
   "id": "7a2614b2-3d09-4149-838c-908b3fa63600",
   "metadata": {},
   "source": [
    "Provato a costruire una pipeline personalizzata con scarso successo: i metodi devono avere una fit e transform phase per funzionare nella pipeline."
   ]
  },
  {
   "cell_type": "markdown",
   "id": "adc67d9c-d7a8-4cee-a14d-d95d0b80a7b6",
   "metadata": {},
   "source": [
    "# Generic functions"
   ]
  },
  {
   "cell_type": "code",
   "execution_count": 2,
   "id": "9edaec20-8c64-41fc-b119-baf0d6985a54",
   "metadata": {},
   "outputs": [],
   "source": [
    "# def imputation(df):\n",
    "#     knn_imputer = KNN(k=5,verbose=False)\n",
    "#     imp_knn = knn_imputer.fit_transform(df) \n",
    "#     df_knn = pd.DataFrame(imp_knn,columns=df.columns)\n",
    "#     df = pd.concat([pd.DataFrame(df.index),df_knn],axis=1)\n",
    "#     df['Settore Prevalente'] = df['Settore Prevalente'].round(0)\n",
    "#     return df"
   ]
  },
  {
   "cell_type": "code",
   "execution_count": 3,
   "id": "40eb0551-b433-47af-8e90-71f5eb304468",
   "metadata": {},
   "outputs": [],
   "source": [
    "# def scaler(df):\n",
    "#     scaler = MinMaxScaler()\n",
    "#     df['Settore Prevalente'] = df['Settore Prevalente'].astype(str)\n",
    "#     for i in df:\n",
    "#         if (df[i].dtypes == 'datetime64[ns]') | (i == 'anticipatore') | (df[i].dtypes == 'object'):\n",
    "#             pass\n",
    "#         elif (df[i].skew()<3) | (df[i].skew()>-3):\n",
    "#             df[i] = scaler.fit_transform(df[i].values.reshape(-1,1))\n",
    "#         else:\n",
    "#             a,b,floc,scale = beta.fit(df[i])\n",
    "#             t0 = beta.rvs(a, b, size=len(df[i]))\n",
    "#             df[i] = (t0-t0.min())/(t0.max()-t0.min())\n",
    "#     return df"
   ]
  },
  {
   "cell_type": "code",
   "execution_count": 4,
   "id": "3bf910ee-da2b-4fed-b08b-97ba0943a26e",
   "metadata": {},
   "outputs": [],
   "source": [
    "# class Imputation(BaseEstimator,TransformerMixin):\n",
    "#     # Constructor\n",
    "#     def __init__(self,df):\n",
    "#         self.df = df\n",
    "    \n",
    "#     def fit(self):\n",
    "#         return self\n",
    "    \n",
    "#     def transform(self,df):\n",
    "#         knn_imputer = KNN(k=5,verbose=False)\n",
    "#         imp_knn = knn_imputer.fit_transform(self.df) \n",
    "#         df_knn = pd.DataFrame(imp_knn,columns=self.df.columns)\n",
    "#         df = pd.concat([pd.DataFrame(self.df.index),df_knn],axis=1)\n",
    "#         df['Settore Prevalente'] = df['Settore Prevalente'].round(0)\n",
    "#         df = df.set_index('Data')\n",
    "#         return df"
   ]
  },
  {
   "cell_type": "code",
   "execution_count": 5,
   "id": "4d4c4e6d-ae46-4915-af3e-410e5355eb05",
   "metadata": {},
   "outputs": [],
   "source": [
    "# class Scaler(BaseEstimator,TransformerMixin):\n",
    "#     # Constructor\n",
    "#     def __init__(self,df):\n",
    "#         self.df = df\n",
    "    \n",
    "#     def fit(self,df):\n",
    "#         return self\n",
    "    \n",
    "#     def transform(self,df):\n",
    "#         scaler = MinMaxScaler()\n",
    "#         self.df['Settore Prevalente'] = self.df['Settore Prevalente'].astype(str)\n",
    "#         for i in self.df:\n",
    "#             if (self.df[i].dtypes == 'datetime64[ns]') | (i == 'anticipatore') | (self.df[i].dtypes == 'object'):\n",
    "#                 pass\n",
    "#             elif (self.df[i].skew()<3) | (self.df[i].skew()>-3):\n",
    "#                 df[i] = scaler.fit_transform(self.df[i].values.reshape(-1,1))\n",
    "#             else:\n",
    "#                 a,b,floc,scale = beta.fit(self.df[i])\n",
    "#                 t0 = beta.rvs(a, b, size=len(self.df[i]))\n",
    "#                 df[i] = (t0-t0.min())/(t0.max()-t0.min())\n",
    "#         return df"
   ]
  },
  {
   "cell_type": "markdown",
   "id": "4ac0c088-1cc0-44e4-82cf-3e63cf2ebf2a",
   "metadata": {},
   "source": [
    "# 1.0 Data retrival"
   ]
  },
  {
   "cell_type": "code",
   "execution_count": 6,
   "id": "0b275fb3-eca0-4eb8-822d-bc8a8302f1e5",
   "metadata": {},
   "outputs": [],
   "source": [
    "# df = pd.read_pickle('../output/df_prep.pkl')"
   ]
  },
  {
   "cell_type": "code",
   "execution_count": 7,
   "id": "7b499c63-6a61-4409-8c6e-7ffaff580ae9",
   "metadata": {},
   "outputs": [],
   "source": [
    "# df2 = Imputation(df).transform(df)"
   ]
  },
  {
   "cell_type": "code",
   "execution_count": 8,
   "id": "ed697f23-f072-4125-b397-12f099d5f7c2",
   "metadata": {},
   "outputs": [],
   "source": [
    "# df3 = Scaler(df2).transform(df2)"
   ]
  },
  {
   "cell_type": "code",
   "execution_count": 9,
   "id": "da7bff0d-1cbc-47d0-936b-20a0d7af197c",
   "metadata": {},
   "outputs": [],
   "source": [
    "# full = FeatureUnion(transformer_list=[('imputation',imp),('scaling',sca)])"
   ]
  },
  {
   "cell_type": "code",
   "execution_count": 10,
   "id": "bf63bd52-6ebc-41cc-9535-4244d3dbdf01",
   "metadata": {},
   "outputs": [],
   "source": [
    "# pipe = Pipeline(steps=[('full',full),('model',GradientBoostingClassifier())])"
   ]
  },
  {
   "cell_type": "code",
   "execution_count": 11,
   "id": "74fae2f4-af83-4329-96bc-f4968768d2e5",
   "metadata": {},
   "outputs": [],
   "source": [
    "# pipe = Pipeline(steps=[('model',GradientBoostingClassifier())])"
   ]
  },
  {
   "cell_type": "code",
   "execution_count": 12,
   "id": "b48f18f6-c0bd-4cc5-9fa0-47651260816b",
   "metadata": {},
   "outputs": [],
   "source": [
    "# cv = RepeatedStratifiedKFold(n_splits=5, n_repeats=3, random_state=1)"
   ]
  },
  {
   "cell_type": "code",
   "execution_count": 13,
   "id": "b7c03c4a-b8c3-4693-bfe3-d7c860125fb1",
   "metadata": {},
   "outputs": [],
   "source": [
    "# scores = cross_val_score(pipe, df3.drop(columns=['anticipatore']).values, df3['anticipatore'].values, scoring='accuracy', cv=cv, n_jobs=1)"
   ]
  },
  {
   "cell_type": "code",
   "execution_count": 14,
   "id": "59c88aa2-769d-42ec-9c99-c4f350d01256",
   "metadata": {},
   "outputs": [],
   "source": [
    "# scores"
   ]
  },
  {
   "cell_type": "markdown",
   "id": "38ea6ab7-9ee5-4d32-8103-a5805d4d7b43",
   "metadata": {},
   "source": [
    "----------------------"
   ]
  },
  {
   "cell_type": "code",
   "execution_count": 15,
   "id": "2fcc40a8-e0b0-4b0d-ac9b-bf6d9381d016",
   "metadata": {},
   "outputs": [],
   "source": [
    "# class Imputation(BaseEstimator):\n",
    "\n",
    "#     def __init__(self):\n",
    "#         pass\n",
    "    \n",
    "#     def fit(self):\n",
    "#         return self\n",
    "    \n",
    "#     def transform(self,df):\n",
    "#         knn_imputer = KNN(k=5,verbose=False)\n",
    "#         imp_knn = knn_imputer.fit_transform(df) \n",
    "#         df_knn = pd.DataFrame(imp_knn,columns=df.columns)\n",
    "#         df = pd.concat([pd.DataFrame(df.index),df_knn],axis=1)\n",
    "#         df['Settore Prevalente'] = df['Settore Prevalente'].round(0)\n",
    "#         df = df.set_index('Data')\n",
    "#         return df"
   ]
  },
  {
   "cell_type": "code",
   "execution_count": 16,
   "id": "caa4af64-deb0-4caa-b180-5fd8ef17725c",
   "metadata": {},
   "outputs": [],
   "source": [
    "# class Scaler(BaseEstimator):\n",
    "#     # Constructor\n",
    "#     def __init__(self):\n",
    "#         pass\n",
    "    \n",
    "#     def fit(self):\n",
    "#         return self\n",
    "    \n",
    "#     def transform(self,df):\n",
    "#         scaler = MinMaxScaler()\n",
    "#         df['Settore Prevalente'] = df['Settore Prevalente'].astype(str)\n",
    "#         for i in df:\n",
    "#             if (df[i].dtypes == 'datetime64[ns]') | (i == 'anticipatore') | (df[i].dtypes == 'object'):\n",
    "#                 pass\n",
    "#             elif (df[i].skew()<3) | (df[i].skew()>-3):\n",
    "#                 df[i] = scaler.fit_transform(df[i].values.reshape(-1,1))\n",
    "#             else:\n",
    "#                 a,b,floc,scale = beta.fit(df[i])\n",
    "#                 t0 = beta.rvs(a, b, size=len(df[i]))\n",
    "#                 df[i] = (t0-t0.min())/(t0.max()-t0.min())\n",
    "#         return df"
   ]
  },
  {
   "cell_type": "code",
   "execution_count": 75,
   "id": "f1beb7b0-1672-4521-9b2e-f8c8f7d1bb82",
   "metadata": {},
   "outputs": [],
   "source": [
    "# def imputation(df):\n",
    "#     knn_imputer = KNN(k=5,verbose=False)\n",
    "#     imp_knn = knn_imputer.fit_transform(df) \n",
    "#     df_knn = pd.DataFrame(imp_knn,columns=df.columns)\n",
    "#     df = pd.concat([pd.DataFrame(df.index),df_knn],axis=1)\n",
    "#     df['Settore Prevalente'] = df['Settore Prevalente'].round(0)\n",
    "#     df = df.set_index('Data')\n",
    "#     return df"
   ]
  },
  {
   "cell_type": "code",
   "execution_count": 76,
   "id": "bb555c98-300c-4273-987b-b3191dadb107",
   "metadata": {},
   "outputs": [],
   "source": [
    "# def scaler(df):\n",
    "#     scaler = MinMaxScaler()\n",
    "#     df['Settore Prevalente'] = df['Settore Prevalente'].astype(str)\n",
    "#     for i in df:\n",
    "#         if ((df[i].dtypes == 'datetime64[ns]') | (i == 'anticipatore') | (df[i].dtypes == 'object')):\n",
    "#             pass\n",
    "#         elif ((df[i].skew()<3) | (df[i].skew()>-3)):\n",
    "#             df[i] = scaler.fit_transform(df[i].values.reshape(-1,1))\n",
    "#         else:\n",
    "#             a,b,floc,scale = beta.fit(df[i])\n",
    "#             t0 = beta.rvs(a, b, size=len(df[i]))\n",
    "#             df[i] = ((t0-t0.min())/(t0.max()-t0.min()))\n",
    "#     return df"
   ]
  },
  {
   "cell_type": "code",
   "execution_count": 126,
   "id": "d174a77f-1411-4fdd-977f-3377473bd28d",
   "metadata": {},
   "outputs": [],
   "source": [
    "class Imputation(TransformerMixin):\n",
    "\n",
    "    def fit(X):\n",
    "        pass\n",
    "    \n",
    "    def transform(X):\n",
    "        knn_imputer = KNN(k=5,verbose=False)\n",
    "        imp_knn = knn_imputer.fit_transform(X) \n",
    "        df_knn = pd.DataFrame(imp_knn,columns=X.columns)\n",
    "        df = pd.concat([pd.DataFrame(X.index),df_knn],axis=1)\n",
    "        df['Settore Prevalente'] = df['Settore Prevalente'].round(0)\n",
    "        df = df.set_index('Data')\n",
    "        return df"
   ]
  },
  {
   "cell_type": "code",
   "execution_count": 127,
   "id": "07180846-9599-4246-b176-08b4037fe92f",
   "metadata": {},
   "outputs": [],
   "source": [
    "df = pd.read_pickle('../output/df_prep.pkl')"
   ]
  },
  {
   "cell_type": "code",
   "execution_count": 128,
   "id": "b23aad05-0c35-4217-84b8-29b293e25117",
   "metadata": {},
   "outputs": [],
   "source": [
    "# FunctionTransformer(imputation).transform(df)"
   ]
  },
  {
   "cell_type": "code",
   "execution_count": 129,
   "id": "d9d5dbcd-bec4-49b8-afee-a1c8f536e94b",
   "metadata": {},
   "outputs": [],
   "source": [
    "# ('scaler',FunctionTransformer(scaler).transform(df)),"
   ]
  },
  {
   "cell_type": "code",
   "execution_count": 130,
   "id": "7948604e-4bc3-46ff-ae6c-ca16792f6e07",
   "metadata": {},
   "outputs": [],
   "source": [
    "# FunctionTransformer(imputation).transform(df)"
   ]
  },
  {
   "cell_type": "code",
   "execution_count": 131,
   "id": "dbc5029e-3681-49be-b725-6ef25133b7f9",
   "metadata": {},
   "outputs": [],
   "source": [
    "# pipe = Pipeline(steps=[('imputation',FunctionTransformer(imputation).transform(df)),\n",
    "#                        ('model',GradientBoostingClassifier())])"
   ]
  },
  {
   "cell_type": "code",
   "execution_count": 132,
   "id": "c26e08d2-c822-473a-bd37-6316fa4205af",
   "metadata": {},
   "outputs": [],
   "source": [
    "# df2 = Imputation.transform(df)"
   ]
  },
  {
   "cell_type": "code",
   "execution_count": 135,
   "id": "5f91f8d0-2d67-4ec3-933c-0ee75a8caf5d",
   "metadata": {},
   "outputs": [
    {
     "ename": "AttributeError",
     "evalue": "'numpy.ndarray' object has no attribute 'columns'",
     "output_type": "error",
     "traceback": [
      "\u001b[1;31m---------------------------------------------------------------------------\u001b[0m",
      "\u001b[1;31mAttributeError\u001b[0m                            Traceback (most recent call last)",
      "\u001b[1;32m<ipython-input-135-46a636b34017>\u001b[0m in \u001b[0;36m<module>\u001b[1;34m\u001b[0m\n\u001b[1;32m----> 1\u001b[1;33m \u001b[0mpipe\u001b[0m \u001b[1;33m=\u001b[0m \u001b[0mPipeline\u001b[0m\u001b[1;33m(\u001b[0m\u001b[0msteps\u001b[0m\u001b[1;33m=\u001b[0m\u001b[1;33m[\u001b[0m\u001b[1;33m(\u001b[0m\u001b[1;34m'imputation'\u001b[0m\u001b[1;33m,\u001b[0m\u001b[0mImputation\u001b[0m\u001b[1;33m.\u001b[0m\u001b[0mtransform\u001b[0m\u001b[1;33m(\u001b[0m\u001b[0mdf\u001b[0m\u001b[1;33m.\u001b[0m\u001b[0mdrop\u001b[0m\u001b[1;33m(\u001b[0m\u001b[0mcolumns\u001b[0m\u001b[1;33m=\u001b[0m\u001b[1;33m[\u001b[0m\u001b[1;34m'anticipatore'\u001b[0m\u001b[1;33m]\u001b[0m\u001b[1;33m)\u001b[0m\u001b[1;33m.\u001b[0m\u001b[0mvalues\u001b[0m\u001b[1;33m)\u001b[0m\u001b[1;33m)\u001b[0m\u001b[1;33m,\u001b[0m\u001b[1;33m(\u001b[0m\u001b[1;34m'model'\u001b[0m\u001b[1;33m,\u001b[0m\u001b[0mGradientBoostingClassifier\u001b[0m\u001b[1;33m(\u001b[0m\u001b[1;33m)\u001b[0m\u001b[1;33m)\u001b[0m\u001b[1;33m]\u001b[0m\u001b[1;33m)\u001b[0m\u001b[1;33m\u001b[0m\u001b[1;33m\u001b[0m\u001b[0m\n\u001b[0m",
      "\u001b[1;32m<ipython-input-126-96037acf5379>\u001b[0m in \u001b[0;36mtransform\u001b[1;34m(X)\u001b[0m\n\u001b[0;32m      5\u001b[0m         \u001b[0mknn_imputer\u001b[0m \u001b[1;33m=\u001b[0m \u001b[0mKNN\u001b[0m\u001b[1;33m(\u001b[0m\u001b[0mk\u001b[0m\u001b[1;33m=\u001b[0m\u001b[1;36m5\u001b[0m\u001b[1;33m,\u001b[0m\u001b[0mverbose\u001b[0m\u001b[1;33m=\u001b[0m\u001b[1;32mFalse\u001b[0m\u001b[1;33m)\u001b[0m\u001b[1;33m\u001b[0m\u001b[1;33m\u001b[0m\u001b[0m\n\u001b[0;32m      6\u001b[0m         \u001b[0mimp_knn\u001b[0m \u001b[1;33m=\u001b[0m \u001b[0mknn_imputer\u001b[0m\u001b[1;33m.\u001b[0m\u001b[0mfit_transform\u001b[0m\u001b[1;33m(\u001b[0m\u001b[0mX\u001b[0m\u001b[1;33m)\u001b[0m\u001b[1;33m\u001b[0m\u001b[1;33m\u001b[0m\u001b[0m\n\u001b[1;32m----> 7\u001b[1;33m         \u001b[0mdf_knn\u001b[0m \u001b[1;33m=\u001b[0m \u001b[0mpd\u001b[0m\u001b[1;33m.\u001b[0m\u001b[0mDataFrame\u001b[0m\u001b[1;33m(\u001b[0m\u001b[0mimp_knn\u001b[0m\u001b[1;33m,\u001b[0m\u001b[0mcolumns\u001b[0m\u001b[1;33m=\u001b[0m\u001b[0mX\u001b[0m\u001b[1;33m.\u001b[0m\u001b[0mcolumns\u001b[0m\u001b[1;33m)\u001b[0m\u001b[1;33m\u001b[0m\u001b[1;33m\u001b[0m\u001b[0m\n\u001b[0m\u001b[0;32m      8\u001b[0m         \u001b[0mdf\u001b[0m \u001b[1;33m=\u001b[0m \u001b[0mpd\u001b[0m\u001b[1;33m.\u001b[0m\u001b[0mconcat\u001b[0m\u001b[1;33m(\u001b[0m\u001b[1;33m[\u001b[0m\u001b[0mpd\u001b[0m\u001b[1;33m.\u001b[0m\u001b[0mDataFrame\u001b[0m\u001b[1;33m(\u001b[0m\u001b[0mX\u001b[0m\u001b[1;33m.\u001b[0m\u001b[0mindex\u001b[0m\u001b[1;33m)\u001b[0m\u001b[1;33m,\u001b[0m\u001b[0mdf_knn\u001b[0m\u001b[1;33m]\u001b[0m\u001b[1;33m,\u001b[0m\u001b[0maxis\u001b[0m\u001b[1;33m=\u001b[0m\u001b[1;36m1\u001b[0m\u001b[1;33m)\u001b[0m\u001b[1;33m\u001b[0m\u001b[1;33m\u001b[0m\u001b[0m\n\u001b[0;32m      9\u001b[0m         \u001b[0mdf\u001b[0m\u001b[1;33m[\u001b[0m\u001b[1;34m'Settore Prevalente'\u001b[0m\u001b[1;33m]\u001b[0m \u001b[1;33m=\u001b[0m \u001b[0mdf\u001b[0m\u001b[1;33m[\u001b[0m\u001b[1;34m'Settore Prevalente'\u001b[0m\u001b[1;33m]\u001b[0m\u001b[1;33m.\u001b[0m\u001b[0mround\u001b[0m\u001b[1;33m(\u001b[0m\u001b[1;36m0\u001b[0m\u001b[1;33m)\u001b[0m\u001b[1;33m\u001b[0m\u001b[1;33m\u001b[0m\u001b[0m\n",
      "\u001b[1;31mAttributeError\u001b[0m: 'numpy.ndarray' object has no attribute 'columns'"
     ]
    }
   ],
   "source": [
    "pipe = Pipeline(steps=[('imputation',Imputation.transform(df.drop(columns=['anticipatore']).values)),('model',GradientBoostingClassifier())])"
   ]
  },
  {
   "cell_type": "code",
   "execution_count": 122,
   "id": "e1235f7c-6731-4192-ac53-629d84c4b9a5",
   "metadata": {},
   "outputs": [],
   "source": [
    "cv = RepeatedStratifiedKFold(n_splits=5, n_repeats=3, random_state=1)"
   ]
  },
  {
   "cell_type": "code",
   "execution_count": 123,
   "id": "0104509a-af50-4a6c-88c7-bda361bc1cef",
   "metadata": {},
   "outputs": [],
   "source": [
    "scores = cross_val_score(pipe, df2.drop(columns=['anticipatore']).values, df2['anticipatore'].values, scoring='accuracy', cv=cv, n_jobs=1)"
   ]
  },
  {
   "cell_type": "code",
   "execution_count": 124,
   "id": "78d9c379-2ac1-4e8a-92d4-d496522f6b2b",
   "metadata": {},
   "outputs": [
    {
     "data": {
      "text/plain": [
       "array([nan, nan, nan, nan, nan, nan, nan, nan, nan, nan, nan, nan, nan,\n",
       "       nan, nan])"
      ]
     },
     "execution_count": 124,
     "metadata": {},
     "output_type": "execute_result"
    }
   ],
   "source": [
    "scores"
   ]
  },
  {
   "cell_type": "code",
   "execution_count": null,
   "id": "e945396f-b35e-4346-a28b-dac22dfb8c34",
   "metadata": {},
   "outputs": [],
   "source": []
  },
  {
   "cell_type": "code",
   "execution_count": null,
   "id": "0ae2740d-a98d-41e9-906d-0b783638bef6",
   "metadata": {},
   "outputs": [],
   "source": []
  },
  {
   "cell_type": "code",
   "execution_count": null,
   "id": "d104ece6-ec9a-436e-9412-d7c3004c814a",
   "metadata": {},
   "outputs": [],
   "source": []
  },
  {
   "cell_type": "code",
   "execution_count": null,
   "id": "d163808c-ec3a-476d-b6b2-818d569e0ad5",
   "metadata": {},
   "outputs": [],
   "source": []
  },
  {
   "cell_type": "code",
   "execution_count": null,
   "id": "e6be2ff0-e1ca-4a29-9388-c4eba5d47636",
   "metadata": {},
   "outputs": [],
   "source": []
  },
  {
   "cell_type": "code",
   "execution_count": null,
   "id": "81e91818-0592-458e-b7c1-ccf3e24b09e7",
   "metadata": {},
   "outputs": [],
   "source": []
  },
  {
   "cell_type": "code",
   "execution_count": null,
   "id": "c8a42d7d-08f9-4f01-a959-c8477c326949",
   "metadata": {},
   "outputs": [],
   "source": []
  },
  {
   "cell_type": "code",
   "execution_count": null,
   "id": "fd1cd411-e56a-4155-87bf-1c4f518478b0",
   "metadata": {},
   "outputs": [],
   "source": []
  },
  {
   "cell_type": "code",
   "execution_count": null,
   "id": "7f47425f-68f6-4062-9254-b840053e6496",
   "metadata": {},
   "outputs": [],
   "source": []
  },
  {
   "cell_type": "code",
   "execution_count": null,
   "id": "3b7444ec-505e-4a25-b9a3-9b57f178ef8f",
   "metadata": {},
   "outputs": [],
   "source": []
  },
  {
   "cell_type": "code",
   "execution_count": null,
   "id": "f8942817-97d6-4b9e-98c1-0d7fb67bb639",
   "metadata": {},
   "outputs": [],
   "source": []
  },
  {
   "cell_type": "code",
   "execution_count": null,
   "id": "e2522341-335d-40da-9e9b-1a1ecd254867",
   "metadata": {},
   "outputs": [],
   "source": []
  },
  {
   "cell_type": "code",
   "execution_count": null,
   "id": "db573a66-3c8a-48f8-ac75-fae2c7c226d7",
   "metadata": {},
   "outputs": [],
   "source": []
  },
  {
   "cell_type": "code",
   "execution_count": null,
   "id": "c4f81ba5-0acc-4c46-a3e1-3c825a745ae6",
   "metadata": {},
   "outputs": [],
   "source": []
  },
  {
   "cell_type": "code",
   "execution_count": null,
   "id": "eb78352d-9204-4917-b264-84798e5eee62",
   "metadata": {},
   "outputs": [],
   "source": []
  },
  {
   "cell_type": "code",
   "execution_count": null,
   "id": "90fe32da-7bff-4e8a-b361-8104bc4095cb",
   "metadata": {},
   "outputs": [],
   "source": []
  },
  {
   "cell_type": "code",
   "execution_count": null,
   "id": "cf5035da-06ee-4628-8f3b-70e981e7194a",
   "metadata": {},
   "outputs": [],
   "source": []
  },
  {
   "cell_type": "code",
   "execution_count": null,
   "id": "d7dc9902-3aa5-4bb9-ad8b-5f197a67eaca",
   "metadata": {},
   "outputs": [],
   "source": []
  },
  {
   "cell_type": "code",
   "execution_count": null,
   "id": "23a04a6d-dacc-4bab-adf4-6c922480e911",
   "metadata": {},
   "outputs": [],
   "source": []
  },
  {
   "cell_type": "code",
   "execution_count": null,
   "id": "2cfeee36-ac82-474a-aaf3-4b7e3fb7f531",
   "metadata": {},
   "outputs": [],
   "source": []
  },
  {
   "cell_type": "code",
   "execution_count": null,
   "id": "e9295d68-61af-489c-91a9-d61b9d0bea8d",
   "metadata": {},
   "outputs": [],
   "source": []
  },
  {
   "cell_type": "code",
   "execution_count": null,
   "id": "948b733f-bf8f-46a2-9b47-dc299c1d86a2",
   "metadata": {},
   "outputs": [],
   "source": []
  },
  {
   "cell_type": "code",
   "execution_count": null,
   "id": "c7852acd-ecb0-4ad2-8b99-7fcfb3aaf852",
   "metadata": {},
   "outputs": [],
   "source": []
  },
  {
   "cell_type": "code",
   "execution_count": null,
   "id": "bfde9e1a-0b50-4a11-9710-35ac12d7201f",
   "metadata": {},
   "outputs": [],
   "source": []
  },
  {
   "cell_type": "code",
   "execution_count": null,
   "id": "7e4efcdc-2cd4-40fe-bdb8-5157988bb5d9",
   "metadata": {},
   "outputs": [],
   "source": []
  },
  {
   "cell_type": "code",
   "execution_count": null,
   "id": "1c848a30-5579-491c-b685-1e19bf1fd207",
   "metadata": {},
   "outputs": [],
   "source": []
  },
  {
   "cell_type": "code",
   "execution_count": null,
   "id": "710bcf58-2d07-4825-a379-e1d0ab2efd67",
   "metadata": {},
   "outputs": [],
   "source": []
  },
  {
   "cell_type": "code",
   "execution_count": null,
   "id": "98d38d89-1710-41c7-9b4c-1e1d2837d261",
   "metadata": {},
   "outputs": [],
   "source": []
  },
  {
   "cell_type": "code",
   "execution_count": null,
   "id": "49e8f851-a212-4778-8362-c3683b180542",
   "metadata": {},
   "outputs": [],
   "source": []
  },
  {
   "cell_type": "code",
   "execution_count": null,
   "id": "e62404ab-9097-47d6-83db-9408be529a2d",
   "metadata": {},
   "outputs": [],
   "source": []
  },
  {
   "cell_type": "code",
   "execution_count": null,
   "id": "bae2f174-44cf-4f04-a979-e4df627c75c6",
   "metadata": {},
   "outputs": [],
   "source": []
  },
  {
   "cell_type": "code",
   "execution_count": null,
   "id": "12311a4d-0f86-48b9-8221-6533921869be",
   "metadata": {},
   "outputs": [],
   "source": []
  },
  {
   "cell_type": "code",
   "execution_count": null,
   "id": "d09d84c9-0afe-4396-8ca7-553e7f11076e",
   "metadata": {},
   "outputs": [],
   "source": []
  },
  {
   "cell_type": "code",
   "execution_count": null,
   "id": "80c2d77a-3e1c-4202-8f20-1cdab8786b80",
   "metadata": {},
   "outputs": [],
   "source": []
  },
  {
   "cell_type": "code",
   "execution_count": null,
   "id": "da866b80-877f-4a08-b025-8ef2ebf21295",
   "metadata": {},
   "outputs": [],
   "source": []
  },
  {
   "cell_type": "code",
   "execution_count": null,
   "id": "b9bda07a-7b83-4661-bc25-a0fc6071f920",
   "metadata": {},
   "outputs": [],
   "source": []
  },
  {
   "cell_type": "code",
   "execution_count": null,
   "id": "80af559f-8703-4ee0-8097-228c723d5f96",
   "metadata": {},
   "outputs": [],
   "source": []
  },
  {
   "cell_type": "code",
   "execution_count": null,
   "id": "e579e005-794a-4fac-b2af-c03c8ca75f96",
   "metadata": {},
   "outputs": [],
   "source": []
  },
  {
   "cell_type": "code",
   "execution_count": null,
   "id": "5fe7aed9-c978-4cc9-92a4-bb453e7e378b",
   "metadata": {},
   "outputs": [],
   "source": []
  },
  {
   "cell_type": "code",
   "execution_count": null,
   "id": "f5ee26fe-6b6b-43a1-848e-c7a9e82c77ec",
   "metadata": {},
   "outputs": [],
   "source": []
  },
  {
   "cell_type": "code",
   "execution_count": 13,
   "id": "ea2ce1c9-40ac-448f-95bb-c8a480ac544c",
   "metadata": {},
   "outputs": [
    {
     "ename": "ValueError",
     "evalue": "The truth value of a DataFrame is ambiguous. Use a.empty, a.bool(), a.item(), a.any() or a.all().",
     "output_type": "error",
     "traceback": [
      "\u001b[1;31m---------------------------------------------------------------------------\u001b[0m",
      "\u001b[1;31mValueError\u001b[0m                                Traceback (most recent call last)",
      "\u001b[1;32m<ipython-input-13-d0828d9b8354>\u001b[0m in \u001b[0;36m<module>\u001b[1;34m\u001b[0m\n\u001b[0;32m      1\u001b[0m pipe = Pipeline(steps=[('imputation',Imputation(df).transform(df)),\n\u001b[1;32m----> 2\u001b[1;33m                       \u001b[1;33m(\u001b[0m\u001b[1;34m'scaling'\u001b[0m\u001b[1;33m,\u001b[0m\u001b[0mScaler\u001b[0m\u001b[1;33m(\u001b[0m\u001b[0mdf\u001b[0m\u001b[1;33m)\u001b[0m\u001b[1;33m.\u001b[0m\u001b[0mtrasform\u001b[0m\u001b[1;33m(\u001b[0m\u001b[0mdf\u001b[0m\u001b[1;33m)\u001b[0m\u001b[1;33m)\u001b[0m\u001b[1;33m,\u001b[0m\u001b[1;33m\u001b[0m\u001b[1;33m\u001b[0m\u001b[0m\n\u001b[0m\u001b[0;32m      3\u001b[0m                       ])\n",
      "\u001b[1;32m~\\AppData\\Local\\Programs\\Python\\Python37\\lib\\site-packages\\sklearn\\utils\\validation.py\u001b[0m in \u001b[0;36minner_f\u001b[1;34m(*args, **kwargs)\u001b[0m\n\u001b[0;32m     70\u001b[0m                           FutureWarning)\n\u001b[0;32m     71\u001b[0m         \u001b[0mkwargs\u001b[0m\u001b[1;33m.\u001b[0m\u001b[0mupdate\u001b[0m\u001b[1;33m(\u001b[0m\u001b[1;33m{\u001b[0m\u001b[0mk\u001b[0m\u001b[1;33m:\u001b[0m \u001b[0marg\u001b[0m \u001b[1;32mfor\u001b[0m \u001b[0mk\u001b[0m\u001b[1;33m,\u001b[0m \u001b[0marg\u001b[0m \u001b[1;32min\u001b[0m \u001b[0mzip\u001b[0m\u001b[1;33m(\u001b[0m\u001b[0msig\u001b[0m\u001b[1;33m.\u001b[0m\u001b[0mparameters\u001b[0m\u001b[1;33m,\u001b[0m \u001b[0margs\u001b[0m\u001b[1;33m)\u001b[0m\u001b[1;33m}\u001b[0m\u001b[1;33m)\u001b[0m\u001b[1;33m\u001b[0m\u001b[1;33m\u001b[0m\u001b[0m\n\u001b[1;32m---> 72\u001b[1;33m         \u001b[1;32mreturn\u001b[0m \u001b[0mf\u001b[0m\u001b[1;33m(\u001b[0m\u001b[1;33m**\u001b[0m\u001b[0mkwargs\u001b[0m\u001b[1;33m)\u001b[0m\u001b[1;33m\u001b[0m\u001b[1;33m\u001b[0m\u001b[0m\n\u001b[0m\u001b[0;32m     73\u001b[0m     \u001b[1;32mreturn\u001b[0m \u001b[0minner_f\u001b[0m\u001b[1;33m\u001b[0m\u001b[1;33m\u001b[0m\u001b[0m\n\u001b[0;32m     74\u001b[0m \u001b[1;33m\u001b[0m\u001b[0m\n",
      "\u001b[1;32m~\\AppData\\Local\\Programs\\Python\\Python37\\lib\\site-packages\\sklearn\\pipeline.py\u001b[0m in \u001b[0;36m__init__\u001b[1;34m(self, steps, memory, verbose)\u001b[0m\n\u001b[0;32m    112\u001b[0m         \u001b[0mself\u001b[0m\u001b[1;33m.\u001b[0m\u001b[0mmemory\u001b[0m \u001b[1;33m=\u001b[0m \u001b[0mmemory\u001b[0m\u001b[1;33m\u001b[0m\u001b[1;33m\u001b[0m\u001b[0m\n\u001b[0;32m    113\u001b[0m         \u001b[0mself\u001b[0m\u001b[1;33m.\u001b[0m\u001b[0mverbose\u001b[0m \u001b[1;33m=\u001b[0m \u001b[0mverbose\u001b[0m\u001b[1;33m\u001b[0m\u001b[1;33m\u001b[0m\u001b[0m\n\u001b[1;32m--> 114\u001b[1;33m         \u001b[0mself\u001b[0m\u001b[1;33m.\u001b[0m\u001b[0m_validate_steps\u001b[0m\u001b[1;33m(\u001b[0m\u001b[1;33m)\u001b[0m\u001b[1;33m\u001b[0m\u001b[1;33m\u001b[0m\u001b[0m\n\u001b[0m\u001b[0;32m    115\u001b[0m \u001b[1;33m\u001b[0m\u001b[0m\n\u001b[0;32m    116\u001b[0m     \u001b[1;32mdef\u001b[0m \u001b[0mget_params\u001b[0m\u001b[1;33m(\u001b[0m\u001b[0mself\u001b[0m\u001b[1;33m,\u001b[0m \u001b[0mdeep\u001b[0m\u001b[1;33m=\u001b[0m\u001b[1;32mTrue\u001b[0m\u001b[1;33m)\u001b[0m\u001b[1;33m:\u001b[0m\u001b[1;33m\u001b[0m\u001b[1;33m\u001b[0m\u001b[0m\n",
      "\u001b[1;32m~\\AppData\\Local\\Programs\\Python\\Python37\\lib\\site-packages\\sklearn\\pipeline.py\u001b[0m in \u001b[0;36m_validate_steps\u001b[1;34m(self)\u001b[0m\n\u001b[0;32m    153\u001b[0m \u001b[1;33m\u001b[0m\u001b[0m\n\u001b[0;32m    154\u001b[0m         \u001b[1;32mfor\u001b[0m \u001b[0mt\u001b[0m \u001b[1;32min\u001b[0m \u001b[0mtransformers\u001b[0m\u001b[1;33m:\u001b[0m\u001b[1;33m\u001b[0m\u001b[1;33m\u001b[0m\u001b[0m\n\u001b[1;32m--> 155\u001b[1;33m             \u001b[1;32mif\u001b[0m \u001b[0mt\u001b[0m \u001b[1;32mis\u001b[0m \u001b[1;32mNone\u001b[0m \u001b[1;32mor\u001b[0m \u001b[0mt\u001b[0m \u001b[1;33m==\u001b[0m \u001b[1;34m'passthrough'\u001b[0m\u001b[1;33m:\u001b[0m\u001b[1;33m\u001b[0m\u001b[1;33m\u001b[0m\u001b[0m\n\u001b[0m\u001b[0;32m    156\u001b[0m                 \u001b[1;32mcontinue\u001b[0m\u001b[1;33m\u001b[0m\u001b[1;33m\u001b[0m\u001b[0m\n\u001b[0;32m    157\u001b[0m             if (not (hasattr(t, \"fit\") or hasattr(t, \"fit_transform\")) or not\n",
      "\u001b[1;32m~\\AppData\\Local\\Programs\\Python\\Python37\\lib\\site-packages\\pandas\\core\\generic.py\u001b[0m in \u001b[0;36m__nonzero__\u001b[1;34m(self)\u001b[0m\n\u001b[0;32m   1441\u001b[0m     \u001b[1;32mdef\u001b[0m \u001b[0m__nonzero__\u001b[0m\u001b[1;33m(\u001b[0m\u001b[0mself\u001b[0m\u001b[1;33m)\u001b[0m\u001b[1;33m:\u001b[0m\u001b[1;33m\u001b[0m\u001b[1;33m\u001b[0m\u001b[0m\n\u001b[0;32m   1442\u001b[0m         raise ValueError(\n\u001b[1;32m-> 1443\u001b[1;33m             \u001b[1;34mf\"The truth value of a {type(self).__name__} is ambiguous. \"\u001b[0m\u001b[1;33m\u001b[0m\u001b[1;33m\u001b[0m\u001b[0m\n\u001b[0m\u001b[0;32m   1444\u001b[0m             \u001b[1;34m\"Use a.empty, a.bool(), a.item(), a.any() or a.all().\"\u001b[0m\u001b[1;33m\u001b[0m\u001b[1;33m\u001b[0m\u001b[0m\n\u001b[0;32m   1445\u001b[0m         )\n",
      "\u001b[1;31mValueError\u001b[0m: The truth value of a DataFrame is ambiguous. Use a.empty, a.bool(), a.item(), a.any() or a.all()."
     ]
    }
   ],
   "source": [
    "pipe = Pipeline(steps=[('imputation',Imputation(df).transform(df)),\n",
    "                      ('scaling',Scaler(df).trasform(df)),\n",
    "                      ])"
   ]
  },
  {
   "cell_type": "code",
   "execution_count": 12,
   "id": "647e26f0-c5f9-4aee-be37-be6b9a4cd7c3",
   "metadata": {},
   "outputs": [
    {
     "ename": "ValueError",
     "evalue": "The truth value of a DataFrame is ambiguous. Use a.empty, a.bool(), a.item(), a.any() or a.all().",
     "output_type": "error",
     "traceback": [
      "\u001b[1;31m---------------------------------------------------------------------------\u001b[0m",
      "\u001b[1;31mValueError\u001b[0m                                Traceback (most recent call last)",
      "\u001b[1;32m<ipython-input-12-6f57986c669f>\u001b[0m in \u001b[0;36m<module>\u001b[1;34m\u001b[0m\n\u001b[0;32m      3\u001b[0m \u001b[0msteps\u001b[0m\u001b[1;33m.\u001b[0m\u001b[0mappend\u001b[0m\u001b[1;33m(\u001b[0m\u001b[1;33m(\u001b[0m\u001b[1;34m'scaling'\u001b[0m\u001b[1;33m,\u001b[0m\u001b[0mScaler\u001b[0m\u001b[1;33m(\u001b[0m\u001b[0mdf\u001b[0m\u001b[1;33m)\u001b[0m\u001b[1;33m.\u001b[0m\u001b[0mtrasform\u001b[0m\u001b[1;33m(\u001b[0m\u001b[0mdf\u001b[0m\u001b[1;33m)\u001b[0m\u001b[1;33m)\u001b[0m\u001b[1;33m)\u001b[0m\u001b[1;33m\u001b[0m\u001b[1;33m\u001b[0m\u001b[0m\n\u001b[0;32m      4\u001b[0m \u001b[0msteps\u001b[0m\u001b[1;33m.\u001b[0m\u001b[0mappend\u001b[0m\u001b[1;33m(\u001b[0m\u001b[1;33m(\u001b[0m\u001b[1;34m'model'\u001b[0m\u001b[1;33m,\u001b[0m \u001b[0mGradientBoostingClassifier\u001b[0m\u001b[1;33m(\u001b[0m\u001b[1;33m)\u001b[0m\u001b[1;33m)\u001b[0m\u001b[1;33m)\u001b[0m\u001b[1;33m\u001b[0m\u001b[1;33m\u001b[0m\u001b[0m\n\u001b[1;32m----> 5\u001b[1;33m \u001b[0mpipeline\u001b[0m \u001b[1;33m=\u001b[0m \u001b[0mPipeline\u001b[0m\u001b[1;33m(\u001b[0m\u001b[0msteps\u001b[0m\u001b[1;33m=\u001b[0m\u001b[0msteps\u001b[0m\u001b[1;33m)\u001b[0m\u001b[1;33m\u001b[0m\u001b[1;33m\u001b[0m\u001b[0m\n\u001b[0m",
      "\u001b[1;32m~\\AppData\\Local\\Programs\\Python\\Python37\\lib\\site-packages\\sklearn\\utils\\validation.py\u001b[0m in \u001b[0;36minner_f\u001b[1;34m(*args, **kwargs)\u001b[0m\n\u001b[0;32m     70\u001b[0m                           FutureWarning)\n\u001b[0;32m     71\u001b[0m         \u001b[0mkwargs\u001b[0m\u001b[1;33m.\u001b[0m\u001b[0mupdate\u001b[0m\u001b[1;33m(\u001b[0m\u001b[1;33m{\u001b[0m\u001b[0mk\u001b[0m\u001b[1;33m:\u001b[0m \u001b[0marg\u001b[0m \u001b[1;32mfor\u001b[0m \u001b[0mk\u001b[0m\u001b[1;33m,\u001b[0m \u001b[0marg\u001b[0m \u001b[1;32min\u001b[0m \u001b[0mzip\u001b[0m\u001b[1;33m(\u001b[0m\u001b[0msig\u001b[0m\u001b[1;33m.\u001b[0m\u001b[0mparameters\u001b[0m\u001b[1;33m,\u001b[0m \u001b[0margs\u001b[0m\u001b[1;33m)\u001b[0m\u001b[1;33m}\u001b[0m\u001b[1;33m)\u001b[0m\u001b[1;33m\u001b[0m\u001b[1;33m\u001b[0m\u001b[0m\n\u001b[1;32m---> 72\u001b[1;33m         \u001b[1;32mreturn\u001b[0m \u001b[0mf\u001b[0m\u001b[1;33m(\u001b[0m\u001b[1;33m**\u001b[0m\u001b[0mkwargs\u001b[0m\u001b[1;33m)\u001b[0m\u001b[1;33m\u001b[0m\u001b[1;33m\u001b[0m\u001b[0m\n\u001b[0m\u001b[0;32m     73\u001b[0m     \u001b[1;32mreturn\u001b[0m \u001b[0minner_f\u001b[0m\u001b[1;33m\u001b[0m\u001b[1;33m\u001b[0m\u001b[0m\n\u001b[0;32m     74\u001b[0m \u001b[1;33m\u001b[0m\u001b[0m\n",
      "\u001b[1;32m~\\AppData\\Local\\Programs\\Python\\Python37\\lib\\site-packages\\sklearn\\pipeline.py\u001b[0m in \u001b[0;36m__init__\u001b[1;34m(self, steps, memory, verbose)\u001b[0m\n\u001b[0;32m    112\u001b[0m         \u001b[0mself\u001b[0m\u001b[1;33m.\u001b[0m\u001b[0mmemory\u001b[0m \u001b[1;33m=\u001b[0m \u001b[0mmemory\u001b[0m\u001b[1;33m\u001b[0m\u001b[1;33m\u001b[0m\u001b[0m\n\u001b[0;32m    113\u001b[0m         \u001b[0mself\u001b[0m\u001b[1;33m.\u001b[0m\u001b[0mverbose\u001b[0m \u001b[1;33m=\u001b[0m \u001b[0mverbose\u001b[0m\u001b[1;33m\u001b[0m\u001b[1;33m\u001b[0m\u001b[0m\n\u001b[1;32m--> 114\u001b[1;33m         \u001b[0mself\u001b[0m\u001b[1;33m.\u001b[0m\u001b[0m_validate_steps\u001b[0m\u001b[1;33m(\u001b[0m\u001b[1;33m)\u001b[0m\u001b[1;33m\u001b[0m\u001b[1;33m\u001b[0m\u001b[0m\n\u001b[0m\u001b[0;32m    115\u001b[0m \u001b[1;33m\u001b[0m\u001b[0m\n\u001b[0;32m    116\u001b[0m     \u001b[1;32mdef\u001b[0m \u001b[0mget_params\u001b[0m\u001b[1;33m(\u001b[0m\u001b[0mself\u001b[0m\u001b[1;33m,\u001b[0m \u001b[0mdeep\u001b[0m\u001b[1;33m=\u001b[0m\u001b[1;32mTrue\u001b[0m\u001b[1;33m)\u001b[0m\u001b[1;33m:\u001b[0m\u001b[1;33m\u001b[0m\u001b[1;33m\u001b[0m\u001b[0m\n",
      "\u001b[1;32m~\\AppData\\Local\\Programs\\Python\\Python37\\lib\\site-packages\\sklearn\\pipeline.py\u001b[0m in \u001b[0;36m_validate_steps\u001b[1;34m(self)\u001b[0m\n\u001b[0;32m    153\u001b[0m \u001b[1;33m\u001b[0m\u001b[0m\n\u001b[0;32m    154\u001b[0m         \u001b[1;32mfor\u001b[0m \u001b[0mt\u001b[0m \u001b[1;32min\u001b[0m \u001b[0mtransformers\u001b[0m\u001b[1;33m:\u001b[0m\u001b[1;33m\u001b[0m\u001b[1;33m\u001b[0m\u001b[0m\n\u001b[1;32m--> 155\u001b[1;33m             \u001b[1;32mif\u001b[0m \u001b[0mt\u001b[0m \u001b[1;32mis\u001b[0m \u001b[1;32mNone\u001b[0m \u001b[1;32mor\u001b[0m \u001b[0mt\u001b[0m \u001b[1;33m==\u001b[0m \u001b[1;34m'passthrough'\u001b[0m\u001b[1;33m:\u001b[0m\u001b[1;33m\u001b[0m\u001b[1;33m\u001b[0m\u001b[0m\n\u001b[0m\u001b[0;32m    156\u001b[0m                 \u001b[1;32mcontinue\u001b[0m\u001b[1;33m\u001b[0m\u001b[1;33m\u001b[0m\u001b[0m\n\u001b[0;32m    157\u001b[0m             if (not (hasattr(t, \"fit\") or hasattr(t, \"fit_transform\")) or not\n",
      "\u001b[1;32m~\\AppData\\Local\\Programs\\Python\\Python37\\lib\\site-packages\\pandas\\core\\generic.py\u001b[0m in \u001b[0;36m__nonzero__\u001b[1;34m(self)\u001b[0m\n\u001b[0;32m   1441\u001b[0m     \u001b[1;32mdef\u001b[0m \u001b[0m__nonzero__\u001b[0m\u001b[1;33m(\u001b[0m\u001b[0mself\u001b[0m\u001b[1;33m)\u001b[0m\u001b[1;33m:\u001b[0m\u001b[1;33m\u001b[0m\u001b[1;33m\u001b[0m\u001b[0m\n\u001b[0;32m   1442\u001b[0m         raise ValueError(\n\u001b[1;32m-> 1443\u001b[1;33m             \u001b[1;34mf\"The truth value of a {type(self).__name__} is ambiguous. \"\u001b[0m\u001b[1;33m\u001b[0m\u001b[1;33m\u001b[0m\u001b[0m\n\u001b[0m\u001b[0;32m   1444\u001b[0m             \u001b[1;34m\"Use a.empty, a.bool(), a.item(), a.any() or a.all().\"\u001b[0m\u001b[1;33m\u001b[0m\u001b[1;33m\u001b[0m\u001b[0m\n\u001b[0;32m   1445\u001b[0m         )\n",
      "\u001b[1;31mValueError\u001b[0m: The truth value of a DataFrame is ambiguous. Use a.empty, a.bool(), a.item(), a.any() or a.all()."
     ]
    }
   ],
   "source": [
    "steps = list()\n",
    "steps.append(('imputation',Imputation(df).transform(df)))\n",
    "steps.append(('scaling',Scaler(df).trasform(df)))\n",
    "steps.append(('model', GradientBoostingClassifier()))\n",
    "pipeline = Pipeline(steps=steps)"
   ]
  },
  {
   "cell_type": "code",
   "execution_count": null,
   "id": "2005f17c-8449-40e3-8206-41251ead29b6",
   "metadata": {},
   "outputs": [],
   "source": []
  },
  {
   "cell_type": "code",
   "execution_count": null,
   "id": "3350869f-c2e3-4e40-9979-064ea7d4931c",
   "metadata": {},
   "outputs": [],
   "source": []
  },
  {
   "cell_type": "code",
   "execution_count": null,
   "id": "c488c123-cf11-40c8-ae5c-b1c7b5da239a",
   "metadata": {},
   "outputs": [],
   "source": []
  },
  {
   "cell_type": "code",
   "execution_count": null,
   "id": "be23f0d7-eb95-4277-84fa-971e3846f8eb",
   "metadata": {},
   "outputs": [],
   "source": []
  },
  {
   "cell_type": "code",
   "execution_count": null,
   "id": "99aa0635-e272-4d8b-82b7-9b6ba27cf279",
   "metadata": {},
   "outputs": [],
   "source": []
  },
  {
   "cell_type": "code",
   "execution_count": null,
   "id": "29fa0eb0-7ae2-44b5-b2aa-b0748a32211b",
   "metadata": {},
   "outputs": [],
   "source": []
  },
  {
   "cell_type": "code",
   "execution_count": null,
   "id": "bc26957b-9948-469c-8907-6dff320aa304",
   "metadata": {},
   "outputs": [],
   "source": []
  },
  {
   "cell_type": "code",
   "execution_count": null,
   "id": "18558433-1cdc-4f8a-964e-e9856188f319",
   "metadata": {},
   "outputs": [],
   "source": []
  },
  {
   "cell_type": "code",
   "execution_count": null,
   "id": "11d95cce-c074-4a71-9d0b-8b9baf2a9b90",
   "metadata": {},
   "outputs": [],
   "source": []
  },
  {
   "cell_type": "code",
   "execution_count": null,
   "id": "ca2e57d4-0442-41da-8958-cbd2926344f5",
   "metadata": {},
   "outputs": [],
   "source": []
  },
  {
   "cell_type": "code",
   "execution_count": null,
   "id": "13111a58-72dc-4ed0-a6f7-c69eec552b0d",
   "metadata": {},
   "outputs": [],
   "source": []
  },
  {
   "cell_type": "code",
   "execution_count": null,
   "id": "b47695ac-49fb-4a9c-acb6-ea77259ac84b",
   "metadata": {},
   "outputs": [],
   "source": []
  },
  {
   "cell_type": "code",
   "execution_count": null,
   "id": "5c202481-2340-43d1-9fff-199c9e4771a6",
   "metadata": {},
   "outputs": [],
   "source": []
  },
  {
   "cell_type": "code",
   "execution_count": null,
   "id": "83d6449c-216c-48fc-a12e-6cd8e3a8fe2d",
   "metadata": {},
   "outputs": [],
   "source": []
  },
  {
   "cell_type": "code",
   "execution_count": 98,
   "id": "ec445ca9-9c39-43f6-acf5-cbd3c8b1053b",
   "metadata": {},
   "outputs": [],
   "source": [
    "df3 = Imputation(df).transform(df)"
   ]
  },
  {
   "cell_type": "code",
   "execution_count": 101,
   "id": "ff1e78d9-9e7b-447e-aba7-6eb0d82d980c",
   "metadata": {},
   "outputs": [],
   "source": [
    "df4 = Scaler(df).trasform(df)"
   ]
  },
  {
   "cell_type": "code",
   "execution_count": 34,
   "id": "092a1453-eb0b-4a10-baf4-050350075d2f",
   "metadata": {},
   "outputs": [],
   "source": [
    "imp = Imputation(df)"
   ]
  },
  {
   "cell_type": "code",
   "execution_count": 35,
   "id": "037f9f99-9441-4281-8b47-4924e960e63b",
   "metadata": {},
   "outputs": [],
   "source": [
    "df2 = imp.transofrm(df)"
   ]
  },
  {
   "cell_type": "code",
   "execution_count": 36,
   "id": "ca157d84-c5d7-4cfd-9b0e-e3b95c2b5942",
   "metadata": {},
   "outputs": [
    {
     "data": {
      "text/plain": [
       "Data                                    0\n",
       "Precipitazione dalle 9 alle 9 ( mm )    0\n",
       "Precipitazione dalle 0 alle 0 ( mm )    0\n",
       "Temperatura media ( °C )                0\n",
       "Temperatura massima ( °C )              0\n",
       "Temperatura minima ( °C )               0\n",
       "Umidita' media ( % )                    0\n",
       "Umidita' massima ( % )                  0\n",
       "Umidita' minima ( % )                   0\n",
       "Velocita' media ( m/s )                 0\n",
       "Raffica ( m/s )                         0\n",
       "Durata Calma ( min )                    0\n",
       "Settore Prevalente                      0\n",
       "Tempo Permanenza ( min )                0\n",
       "Radiazione totale ( MJ/mq )             0\n",
       "precipitazione_media                    0\n",
       "evento_estremo                          0\n",
       "anticipatore                            0\n",
       "dtype: int64"
      ]
     },
     "execution_count": 36,
     "metadata": {},
     "output_type": "execute_result"
    }
   ],
   "source": [
    "df2.isna().sum()"
   ]
  },
  {
   "cell_type": "code",
   "execution_count": null,
   "id": "d818ffae-efdc-49b5-be6c-9e93020c5585",
   "metadata": {},
   "outputs": [],
   "source": []
  },
  {
   "cell_type": "code",
   "execution_count": null,
   "id": "83533ddd-4d1b-4b80-a920-17978eee9085",
   "metadata": {},
   "outputs": [],
   "source": []
  },
  {
   "cell_type": "markdown",
   "id": "df572bc8-4657-4dc5-9d76-0be318d228bb",
   "metadata": {},
   "source": [
    "# 2.0 Model simple"
   ]
  },
  {
   "cell_type": "code",
   "execution_count": 37,
   "id": "07fcca11-6afc-4ed3-ac58-bb3f45c153d1",
   "metadata": {},
   "outputs": [
    {
     "data": {
      "text/plain": [
       "0.9041095890410958"
      ]
     },
     "execution_count": 37,
     "metadata": {},
     "output_type": "execute_result"
    }
   ],
   "source": [
    "# df = imputation(df)\n",
    "\n",
    "# df = scaler(df)\n",
    "\n",
    "# df = df.set_index('Data')\n",
    "\n",
    "# from sklearn.model_selection import train_test_split\n",
    "\n",
    "# X = df3.drop(columns=['anticipatore'])\n",
    "# y = df3[['anticipatore']]\n",
    "\n",
    "# X_train, X_test, y_train, y_test = train_test_split(X, y, test_size=0.20, random_state=42)\n",
    "\n",
    "# clf = GradientBoostingClassifier(random_state=0).fit(X_train, y_train)\n",
    "# clf.score(X_test, y_test)"
   ]
  },
  {
   "cell_type": "markdown",
   "id": "65df5482-241b-437d-a0b4-b1fd8bf1ba75",
   "metadata": {},
   "source": [
    "# 2.0 Model\n",
    "\n",
    "## 2.1 Pipeline"
   ]
  },
  {
   "cell_type": "code",
   "execution_count": 15,
   "id": "aefd1596-17e2-47b9-a3c4-362bd03bd11d",
   "metadata": {},
   "outputs": [
    {
     "ename": "TypeError",
     "evalue": "All intermediate steps should be transformers and implement fit and transform or be the string 'passthrough' 'Preparation()' (type <class '__main__.Preparation'>) doesn't",
     "output_type": "error",
     "traceback": [
      "\u001b[1;31m---------------------------------------------------------------------------\u001b[0m",
      "\u001b[1;31mTypeError\u001b[0m                                 Traceback (most recent call last)",
      "\u001b[1;32m<ipython-input-15-67eaa28f2d1c>\u001b[0m in \u001b[0;36m<module>\u001b[1;34m\u001b[0m\n\u001b[0;32m      2\u001b[0m \u001b[0msteps\u001b[0m\u001b[1;33m.\u001b[0m\u001b[0mappend\u001b[0m\u001b[1;33m(\u001b[0m\u001b[1;33m(\u001b[0m\u001b[1;34m'preparation'\u001b[0m\u001b[1;33m,\u001b[0m\u001b[0mPreparation\u001b[0m\u001b[1;33m(\u001b[0m\u001b[1;33m)\u001b[0m\u001b[1;33m)\u001b[0m\u001b[1;33m)\u001b[0m\u001b[1;33m\u001b[0m\u001b[1;33m\u001b[0m\u001b[0m\n\u001b[0;32m      3\u001b[0m \u001b[0msteps\u001b[0m\u001b[1;33m.\u001b[0m\u001b[0mappend\u001b[0m\u001b[1;33m(\u001b[0m\u001b[1;33m(\u001b[0m\u001b[1;34m'model'\u001b[0m\u001b[1;33m,\u001b[0m \u001b[0mGradientBoostingClassifier\u001b[0m\u001b[1;33m(\u001b[0m\u001b[1;33m)\u001b[0m\u001b[1;33m)\u001b[0m\u001b[1;33m)\u001b[0m\u001b[1;33m\u001b[0m\u001b[1;33m\u001b[0m\u001b[0m\n\u001b[1;32m----> 4\u001b[1;33m \u001b[0mpipeline\u001b[0m \u001b[1;33m=\u001b[0m \u001b[0mPipeline\u001b[0m\u001b[1;33m(\u001b[0m\u001b[0msteps\u001b[0m\u001b[1;33m=\u001b[0m\u001b[0msteps\u001b[0m\u001b[1;33m)\u001b[0m\u001b[1;33m\u001b[0m\u001b[1;33m\u001b[0m\u001b[0m\n\u001b[0m",
      "\u001b[1;32m~\\AppData\\Local\\Programs\\Python\\Python37\\lib\\site-packages\\sklearn\\utils\\validation.py\u001b[0m in \u001b[0;36minner_f\u001b[1;34m(*args, **kwargs)\u001b[0m\n\u001b[0;32m     70\u001b[0m                           FutureWarning)\n\u001b[0;32m     71\u001b[0m         \u001b[0mkwargs\u001b[0m\u001b[1;33m.\u001b[0m\u001b[0mupdate\u001b[0m\u001b[1;33m(\u001b[0m\u001b[1;33m{\u001b[0m\u001b[0mk\u001b[0m\u001b[1;33m:\u001b[0m \u001b[0marg\u001b[0m \u001b[1;32mfor\u001b[0m \u001b[0mk\u001b[0m\u001b[1;33m,\u001b[0m \u001b[0marg\u001b[0m \u001b[1;32min\u001b[0m \u001b[0mzip\u001b[0m\u001b[1;33m(\u001b[0m\u001b[0msig\u001b[0m\u001b[1;33m.\u001b[0m\u001b[0mparameters\u001b[0m\u001b[1;33m,\u001b[0m \u001b[0margs\u001b[0m\u001b[1;33m)\u001b[0m\u001b[1;33m}\u001b[0m\u001b[1;33m)\u001b[0m\u001b[1;33m\u001b[0m\u001b[1;33m\u001b[0m\u001b[0m\n\u001b[1;32m---> 72\u001b[1;33m         \u001b[1;32mreturn\u001b[0m \u001b[0mf\u001b[0m\u001b[1;33m(\u001b[0m\u001b[1;33m**\u001b[0m\u001b[0mkwargs\u001b[0m\u001b[1;33m)\u001b[0m\u001b[1;33m\u001b[0m\u001b[1;33m\u001b[0m\u001b[0m\n\u001b[0m\u001b[0;32m     73\u001b[0m     \u001b[1;32mreturn\u001b[0m \u001b[0minner_f\u001b[0m\u001b[1;33m\u001b[0m\u001b[1;33m\u001b[0m\u001b[0m\n\u001b[0;32m     74\u001b[0m \u001b[1;33m\u001b[0m\u001b[0m\n",
      "\u001b[1;32m~\\AppData\\Local\\Programs\\Python\\Python37\\lib\\site-packages\\sklearn\\pipeline.py\u001b[0m in \u001b[0;36m__init__\u001b[1;34m(self, steps, memory, verbose)\u001b[0m\n\u001b[0;32m    112\u001b[0m         \u001b[0mself\u001b[0m\u001b[1;33m.\u001b[0m\u001b[0mmemory\u001b[0m \u001b[1;33m=\u001b[0m \u001b[0mmemory\u001b[0m\u001b[1;33m\u001b[0m\u001b[1;33m\u001b[0m\u001b[0m\n\u001b[0;32m    113\u001b[0m         \u001b[0mself\u001b[0m\u001b[1;33m.\u001b[0m\u001b[0mverbose\u001b[0m \u001b[1;33m=\u001b[0m \u001b[0mverbose\u001b[0m\u001b[1;33m\u001b[0m\u001b[1;33m\u001b[0m\u001b[0m\n\u001b[1;32m--> 114\u001b[1;33m         \u001b[0mself\u001b[0m\u001b[1;33m.\u001b[0m\u001b[0m_validate_steps\u001b[0m\u001b[1;33m(\u001b[0m\u001b[1;33m)\u001b[0m\u001b[1;33m\u001b[0m\u001b[1;33m\u001b[0m\u001b[0m\n\u001b[0m\u001b[0;32m    115\u001b[0m \u001b[1;33m\u001b[0m\u001b[0m\n\u001b[0;32m    116\u001b[0m     \u001b[1;32mdef\u001b[0m \u001b[0mget_params\u001b[0m\u001b[1;33m(\u001b[0m\u001b[0mself\u001b[0m\u001b[1;33m,\u001b[0m \u001b[0mdeep\u001b[0m\u001b[1;33m=\u001b[0m\u001b[1;32mTrue\u001b[0m\u001b[1;33m)\u001b[0m\u001b[1;33m:\u001b[0m\u001b[1;33m\u001b[0m\u001b[1;33m\u001b[0m\u001b[0m\n",
      "\u001b[1;32m~\\AppData\\Local\\Programs\\Python\\Python37\\lib\\site-packages\\sklearn\\pipeline.py\u001b[0m in \u001b[0;36m_validate_steps\u001b[1;34m(self)\u001b[0m\n\u001b[0;32m    160\u001b[0m                                 \u001b[1;34m\"transformers and implement fit and transform \"\u001b[0m\u001b[1;33m\u001b[0m\u001b[1;33m\u001b[0m\u001b[0m\n\u001b[0;32m    161\u001b[0m                                 \u001b[1;34m\"or be the string 'passthrough' \"\u001b[0m\u001b[1;33m\u001b[0m\u001b[1;33m\u001b[0m\u001b[0m\n\u001b[1;32m--> 162\u001b[1;33m                                 \"'%s' (type %s) doesn't\" % (t, type(t)))\n\u001b[0m\u001b[0;32m    163\u001b[0m \u001b[1;33m\u001b[0m\u001b[0m\n\u001b[0;32m    164\u001b[0m         \u001b[1;31m# We allow last estimator to be None as an identity transformation\u001b[0m\u001b[1;33m\u001b[0m\u001b[1;33m\u001b[0m\u001b[1;33m\u001b[0m\u001b[0m\n",
      "\u001b[1;31mTypeError\u001b[0m: All intermediate steps should be transformers and implement fit and transform or be the string 'passthrough' 'Preparation()' (type <class '__main__.Preparation'>) doesn't"
     ]
    }
   ],
   "source": [
    "steps = list()\n",
    "steps.append(('preparation',Preparation()))\n",
    "steps.append(('model', GradientBoostingClassifier()))\n",
    "pipeline = Pipeline(steps=steps)"
   ]
  },
  {
   "cell_type": "code",
   "execution_count": 8,
   "id": "199373c3-8c1c-4ed2-ada3-3c52bd989ee2",
   "metadata": {},
   "outputs": [
    {
     "ename": "NameError",
     "evalue": "name 'pipeline' is not defined",
     "output_type": "error",
     "traceback": [
      "\u001b[1;31m---------------------------------------------------------------------------\u001b[0m",
      "\u001b[1;31mNameError\u001b[0m                                 Traceback (most recent call last)",
      "\u001b[1;32m<ipython-input-8-eab3d6719c16>\u001b[0m in \u001b[0;36m<module>\u001b[1;34m\u001b[0m\n\u001b[1;32m----> 1\u001b[1;33m \u001b[0mpipeline\u001b[0m\u001b[1;33m\u001b[0m\u001b[1;33m\u001b[0m\u001b[0m\n\u001b[0m",
      "\u001b[1;31mNameError\u001b[0m: name 'pipeline' is not defined"
     ]
    }
   ],
   "source": [
    "pipeline"
   ]
  },
  {
   "cell_type": "code",
   "execution_count": 16,
   "id": "1a6b40a8-d94c-4fb4-8595-e0770c4a25bf",
   "metadata": {},
   "outputs": [],
   "source": [
    "cv = RepeatedStratifiedKFold(n_splits=10, n_repeats=3, random_state=1)"
   ]
  },
  {
   "cell_type": "code",
   "execution_count": 33,
   "id": "21b3e3dd-116e-44dc-a5bd-cd7beefafe56",
   "metadata": {},
   "outputs": [],
   "source": [
    "y = df['anticipatore'].values\n",
    "X = df.drop(columns=['anticipatore']).to_numpy()"
   ]
  },
  {
   "cell_type": "code",
   "execution_count": 17,
   "id": "21d7ea74-dbb2-43fc-8e15-892979b46ae9",
   "metadata": {},
   "outputs": [],
   "source": [
    "# scores = cross_val_score(pipeline, X, y, scoring='accuracy', cv=cv, n_jobs=1)"
   ]
  },
  {
   "cell_type": "code",
   "execution_count": 36,
   "id": "02a6aa67-b673-4969-8409-d46baccee7c7",
   "metadata": {},
   "outputs": [
    {
     "data": {
      "text/plain": [
       "array([nan, nan, nan, nan, nan, nan, nan, nan, nan, nan, nan, nan, nan,\n",
       "       nan, nan, nan, nan, nan, nan, nan, nan, nan, nan, nan, nan, nan,\n",
       "       nan, nan, nan, nan])"
      ]
     },
     "execution_count": 36,
     "metadata": {},
     "output_type": "execute_result"
    }
   ],
   "source": [
    "scores"
   ]
  },
  {
   "cell_type": "code",
   "execution_count": null,
   "id": "c0026885-48e0-4dea-9655-4cbd230ac985",
   "metadata": {},
   "outputs": [],
   "source": []
  },
  {
   "cell_type": "code",
   "execution_count": null,
   "id": "04065cd8-58de-4570-ae6e-1c26545d0654",
   "metadata": {},
   "outputs": [],
   "source": []
  },
  {
   "cell_type": "code",
   "execution_count": null,
   "id": "a2f68af6-4ee5-4ca5-97da-53621f000bf8",
   "metadata": {},
   "outputs": [],
   "source": []
  },
  {
   "cell_type": "code",
   "execution_count": null,
   "id": "b182653d-4fa1-4095-9928-55030d1d36a2",
   "metadata": {},
   "outputs": [],
   "source": []
  },
  {
   "cell_type": "code",
   "execution_count": null,
   "id": "3e952f88-a9dd-4781-a304-66a8242d09a3",
   "metadata": {},
   "outputs": [],
   "source": []
  },
  {
   "cell_type": "code",
   "execution_count": null,
   "id": "0536a904-ad97-493b-9864-1cad783d9b2d",
   "metadata": {},
   "outputs": [],
   "source": []
  },
  {
   "cell_type": "code",
   "execution_count": null,
   "id": "274328d5-837d-4de1-a65e-b561122601c5",
   "metadata": {},
   "outputs": [],
   "source": []
  },
  {
   "cell_type": "code",
   "execution_count": null,
   "id": "03cd9ed6-313d-4453-bb25-1fb6f1e036f0",
   "metadata": {},
   "outputs": [],
   "source": []
  },
  {
   "cell_type": "code",
   "execution_count": null,
   "id": "95ea61f0-b132-4232-b531-0b0458f44ad0",
   "metadata": {},
   "outputs": [],
   "source": []
  },
  {
   "cell_type": "code",
   "execution_count": null,
   "id": "37ff5720-5ba0-4b90-a736-aec4cc183a09",
   "metadata": {},
   "outputs": [],
   "source": []
  },
  {
   "cell_type": "code",
   "execution_count": null,
   "id": "a95645eb-6e9d-4675-b614-89ecd6f1b8a6",
   "metadata": {},
   "outputs": [],
   "source": []
  },
  {
   "cell_type": "code",
   "execution_count": 28,
   "id": "db20d683-a2be-440d-9f93-e3fbf3af877e",
   "metadata": {},
   "outputs": [],
   "source": [
    "from numpy import mean\n",
    "from numpy import std\n",
    "from sklearn.datasets import make_classification\n",
    "from sklearn.model_selection import cross_val_score\n",
    "from sklearn.model_selection import RepeatedStratifiedKFold\n",
    "from sklearn.preprocessing import MinMaxScaler\n",
    "from sklearn.linear_model import LogisticRegression\n",
    "from sklearn.pipeline import Pipeline\n",
    "# define dataset\n",
    "X, y = make_classification(n_samples=1000, n_features=20, n_informative=15, n_redundant=5, random_state=7)\n",
    "# define the pipeline\n",
    "steps = list()\n",
    "steps.append(('scaler', MinMaxScaler()))\n",
    "steps.append(('model', LogisticRegression()))\n",
    "pipeline = Pipeline(steps=steps)"
   ]
  },
  {
   "cell_type": "code",
   "execution_count": 29,
   "id": "0000429c-2417-4388-8415-f52f4d6d2a59",
   "metadata": {},
   "outputs": [
    {
     "data": {
      "text/plain": [
       "Pipeline(steps=[('scaler', MinMaxScaler()), ('model', LogisticRegression())])"
      ]
     },
     "execution_count": 29,
     "metadata": {},
     "output_type": "execute_result"
    }
   ],
   "source": [
    "pipeline"
   ]
  },
  {
   "cell_type": "code",
   "execution_count": 30,
   "id": "90066248-02a7-4ea8-8004-fe8cd7bb3fb3",
   "metadata": {},
   "outputs": [],
   "source": [
    "# define the evaluation procedure\n",
    "cv = RepeatedStratifiedKFold(n_splits=10, n_repeats=3, random_state=1)"
   ]
  },
  {
   "cell_type": "code",
   "execution_count": 31,
   "id": "ad80511d-5ab4-4369-a93c-3b60035ffe8d",
   "metadata": {},
   "outputs": [
    {
     "data": {
      "text/plain": [
       "RepeatedStratifiedKFold(n_repeats=3, n_splits=10, random_state=1)"
      ]
     },
     "execution_count": 31,
     "metadata": {},
     "output_type": "execute_result"
    }
   ],
   "source": [
    "cv"
   ]
  },
  {
   "cell_type": "code",
   "execution_count": 22,
   "id": "93cb9e74-e7ae-42b3-b267-198f23117f4d",
   "metadata": {},
   "outputs": [],
   "source": [
    "# evaluate the model using cross-validation\n",
    "scores = cross_val_score(pipeline, X, y, scoring='accuracy', cv=cv, n_jobs=1)"
   ]
  },
  {
   "cell_type": "code",
   "execution_count": 23,
   "id": "345a1e08-2265-4a42-a69b-d61e15e47305",
   "metadata": {},
   "outputs": [
    {
     "data": {
      "text/plain": [
       "array([0.86, 0.91, 0.87, 0.81, 0.83, 0.84, 0.81, 0.84, 0.88, 0.84, 0.84,\n",
       "       0.86, 0.85, 0.83, 0.89, 0.88, 0.8 , 0.97, 0.84, 0.84, 0.81, 0.88,\n",
       "       0.81, 0.85, 0.89, 0.88, 0.87, 0.84, 0.84, 0.87])"
      ]
     },
     "execution_count": 23,
     "metadata": {},
     "output_type": "execute_result"
    }
   ],
   "source": [
    "scores"
   ]
  },
  {
   "cell_type": "code",
   "execution_count": 24,
   "id": "920e08ce-f7b2-4335-80ab-c53a3af94332",
   "metadata": {},
   "outputs": [
    {
     "name": "stdout",
     "output_type": "stream",
     "text": [
      "Accuracy: 85.433 (3.471)\n"
     ]
    }
   ],
   "source": [
    "# report performance\n",
    "print('Accuracy: %.3f (%.3f)' % (mean(scores)*100, std(scores)*100))"
   ]
  },
  {
   "cell_type": "code",
   "execution_count": null,
   "id": "c0264d40-37d9-4a1a-922b-8b16a35ffcc8",
   "metadata": {},
   "outputs": [],
   "source": []
  }
 ],
 "metadata": {
  "kernelspec": {
   "display_name": "Python 3.7.3 64-bit",
   "language": "python",
   "name": "python37364bitf15ffc4a8398405aa0d2ca018641a255"
  },
  "language_info": {
   "codemirror_mode": {
    "name": "ipython",
    "version": 3
   },
   "file_extension": ".py",
   "mimetype": "text/x-python",
   "name": "python",
   "nbconvert_exporter": "python",
   "pygments_lexer": "ipython3",
   "version": "3.7.3"
  }
 },
 "nbformat": 4,
 "nbformat_minor": 5
}
