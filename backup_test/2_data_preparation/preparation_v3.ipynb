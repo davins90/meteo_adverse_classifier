{
 "cells": [
  {
   "cell_type": "code",
   "execution_count": 1,
   "id": "b5bbade8-b7c0-4cdb-9bdc-c728a281a8a0",
   "metadata": {},
   "outputs": [],
   "source": [
    "import pandas as pd\n",
    "import numpy as np\n",
    "import warnings\n",
    "import pickle\n",
    "\n",
    "warnings.filterwarnings(\"ignore\")\n",
    "\n",
    "pd.set_option('display.max_rows',None)\n",
    "pd.set_option('display.max_columns',None)"
   ]
  },
  {
   "cell_type": "markdown",
   "id": "69f67ceb-d071-4a82-9f19-dba5efc6c090",
   "metadata": {},
   "source": [
    "# 1.0 Data retrival"
   ]
  },
  {
   "cell_type": "code",
   "execution_count": 2,
   "id": "3fc0feb5-96e1-4132-af77-a92766322d24",
   "metadata": {},
   "outputs": [],
   "source": [
    "df = pd.read_pickle('../output/df_understanding.pkl')"
   ]
  },
  {
   "cell_type": "code",
   "execution_count": 3,
   "id": "b200ea61-d304-4e28-b7eb-cfb5a70a10be",
   "metadata": {},
   "outputs": [
    {
     "data": {
      "text/html": [
       "<div>\n",
       "<style scoped>\n",
       "    .dataframe tbody tr th:only-of-type {\n",
       "        vertical-align: middle;\n",
       "    }\n",
       "\n",
       "    .dataframe tbody tr th {\n",
       "        vertical-align: top;\n",
       "    }\n",
       "\n",
       "    .dataframe thead th {\n",
       "        text-align: right;\n",
       "    }\n",
       "</style>\n",
       "<table border=\"1\" class=\"dataframe\">\n",
       "  <thead>\n",
       "    <tr style=\"text-align: right;\">\n",
       "      <th></th>\n",
       "      <th>Precipitazione dalle 9 alle 9 ( mm )</th>\n",
       "      <th>Precipitazione dalle 0 alle 0 ( mm )</th>\n",
       "      <th>Temperatura media ( °C )</th>\n",
       "      <th>Temperatura massima ( °C )</th>\n",
       "      <th>Temperatura minima ( °C )</th>\n",
       "      <th>Umidita' media ( % )</th>\n",
       "      <th>Umidita' massima ( % )</th>\n",
       "      <th>Umidita' minima ( % )</th>\n",
       "      <th>Velocita' media ( m/s )</th>\n",
       "      <th>Raffica ( m/s )</th>\n",
       "      <th>Durata Calma ( min )</th>\n",
       "      <th>Settore Prevalente</th>\n",
       "      <th>Tempo Permanenza ( min )</th>\n",
       "      <th>Radiazione totale ( MJ/mq )</th>\n",
       "      <th>precipitazione_media</th>\n",
       "      <th>evento_estremo</th>\n",
       "      <th>anticipatore</th>\n",
       "    </tr>\n",
       "    <tr>\n",
       "      <th>Data</th>\n",
       "      <th></th>\n",
       "      <th></th>\n",
       "      <th></th>\n",
       "      <th></th>\n",
       "      <th></th>\n",
       "      <th></th>\n",
       "      <th></th>\n",
       "      <th></th>\n",
       "      <th></th>\n",
       "      <th></th>\n",
       "      <th></th>\n",
       "      <th></th>\n",
       "      <th></th>\n",
       "      <th></th>\n",
       "      <th></th>\n",
       "      <th></th>\n",
       "      <th></th>\n",
       "    </tr>\n",
       "  </thead>\n",
       "  <tbody>\n",
       "    <tr>\n",
       "      <th>1988-05-05</th>\n",
       "      <td>3.8</td>\n",
       "      <td>3.6</td>\n",
       "      <td>14.7</td>\n",
       "      <td>22.6</td>\n",
       "      <td>9.6</td>\n",
       "      <td>NaN</td>\n",
       "      <td>NaN</td>\n",
       "      <td>NaN</td>\n",
       "      <td>NaN</td>\n",
       "      <td>NaN</td>\n",
       "      <td>NaN</td>\n",
       "      <td>NaN</td>\n",
       "      <td>NaN</td>\n",
       "      <td>NaN</td>\n",
       "      <td>3.7</td>\n",
       "      <td>0</td>\n",
       "      <td>0.0</td>\n",
       "    </tr>\n",
       "    <tr>\n",
       "      <th>1988-05-06</th>\n",
       "      <td>0.0</td>\n",
       "      <td>0.2</td>\n",
       "      <td>17.5</td>\n",
       "      <td>27.0</td>\n",
       "      <td>8.1</td>\n",
       "      <td>NaN</td>\n",
       "      <td>NaN</td>\n",
       "      <td>NaN</td>\n",
       "      <td>NaN</td>\n",
       "      <td>NaN</td>\n",
       "      <td>NaN</td>\n",
       "      <td>NaN</td>\n",
       "      <td>NaN</td>\n",
       "      <td>NaN</td>\n",
       "      <td>0.1</td>\n",
       "      <td>0</td>\n",
       "      <td>0.0</td>\n",
       "    </tr>\n",
       "  </tbody>\n",
       "</table>\n",
       "</div>"
      ],
      "text/plain": [
       "            Precipitazione dalle 9 alle 9 ( mm )  \\\n",
       "Data                                               \n",
       "1988-05-05                                   3.8   \n",
       "1988-05-06                                   0.0   \n",
       "\n",
       "            Precipitazione dalle 0 alle 0 ( mm )  Temperatura media ( °C )  \\\n",
       "Data                                                                         \n",
       "1988-05-05                                   3.6                      14.7   \n",
       "1988-05-06                                   0.2                      17.5   \n",
       "\n",
       "            Temperatura massima ( °C )  Temperatura minima ( °C )  \\\n",
       "Data                                                                \n",
       "1988-05-05                        22.6                        9.6   \n",
       "1988-05-06                        27.0                        8.1   \n",
       "\n",
       "            Umidita' media ( % )  Umidita' massima ( % )  \\\n",
       "Data                                                       \n",
       "1988-05-05                   NaN                     NaN   \n",
       "1988-05-06                   NaN                     NaN   \n",
       "\n",
       "            Umidita' minima ( % )  Velocita' media ( m/s )  Raffica ( m/s )  \\\n",
       "Data                                                                          \n",
       "1988-05-05                    NaN                      NaN              NaN   \n",
       "1988-05-06                    NaN                      NaN              NaN   \n",
       "\n",
       "            Durata Calma ( min )  Settore Prevalente  \\\n",
       "Data                                                   \n",
       "1988-05-05                   NaN                 NaN   \n",
       "1988-05-06                   NaN                 NaN   \n",
       "\n",
       "            Tempo Permanenza ( min )  Radiazione totale ( MJ/mq )  \\\n",
       "Data                                                                \n",
       "1988-05-05                       NaN                          NaN   \n",
       "1988-05-06                       NaN                          NaN   \n",
       "\n",
       "            precipitazione_media  evento_estremo  anticipatore  \n",
       "Data                                                            \n",
       "1988-05-05                   3.7               0           0.0  \n",
       "1988-05-06                   0.1               0           0.0  "
      ]
     },
     "execution_count": 3,
     "metadata": {},
     "output_type": "execute_result"
    }
   ],
   "source": [
    "df.head(2)"
   ]
  },
  {
   "cell_type": "markdown",
   "id": "c505ab77-ac9a-4ba0-8480-c4783204d647",
   "metadata": {},
   "source": [
    "# 2.0 Data preparation\n",
    "## 2.1 Imabalanced class"
   ]
  },
  {
   "cell_type": "code",
   "execution_count": 4,
   "id": "cc2ade37-99e4-45a4-8470-99273ca05bc6",
   "metadata": {},
   "outputs": [
    {
     "data": {
      "text/plain": [
       "0.0    11928\n",
       "1.0      181\n",
       "Name: anticipatore, dtype: int64"
      ]
     },
     "execution_count": 4,
     "metadata": {},
     "output_type": "execute_result"
    }
   ],
   "source": [
    "df['anticipatore'].value_counts()"
   ]
  },
  {
   "cell_type": "markdown",
   "id": "c644dd32-2baf-47c5-b048-a9cb64ee6ed5",
   "metadata": {},
   "source": [
    "Given the large imbalance between classes present, it is necessary to treat the problem second:\n",
    "\n",
    "- anomaly detection, or\n",
    "- binary classifier after opportune oversampling or undersampling\n",
    "\n",
    "The use of anomaly detection, being an alternative close to the unsupervised world, I do not consider it for the moment. I start with the binary classifier. For a first test I try the undersampling of the majority class: in this way I avoid to create bias that could occur in the case of oversampling of the minority class (through the creation of data, perhaps, too many fake)."
   ]
  },
  {
   "cell_type": "code",
   "execution_count": 5,
   "id": "23658c82-a262-4bf4-97e3-84b0edd659c2",
   "metadata": {},
   "outputs": [],
   "source": [
    "df_under = df[df['anticipatore']==0]\n",
    "df_over = df[df['anticipatore']==1]\n",
    "df_under = df_under.sample(frac=df_over.shape[0]/df_under.shape[0],random_state=0)\n",
    "df = df_over.append(df_under).sample(frac=1)"
   ]
  },
  {
   "cell_type": "markdown",
   "id": "f2ad881e-61dd-4b68-a37a-675c0866548e",
   "metadata": {},
   "source": [
    "## 2.2 Train, dev, test split or Cross Validation?"
   ]
  },
  {
   "cell_type": "code",
   "execution_count": 6,
   "id": "18fb279b-8f2e-4677-a3d1-7b733a24685a",
   "metadata": {},
   "outputs": [
    {
     "data": {
      "text/plain": [
       "(362, 17)"
      ]
     },
     "execution_count": 6,
     "metadata": {},
     "output_type": "execute_result"
    }
   ],
   "source": [
    "df.shape"
   ]
  },
  {
   "cell_type": "markdown",
   "id": "3a2ac206-71a2-4168-92a9-c1943bc850d3",
   "metadata": {},
   "source": [
    "Dealing with a relatively small dataset: should I do the 3-part split or is it better to use cross-validation?\n",
    "\n",
    "Let's start with cross validation. In order to avoid data-leakage, I need to build a pipeline that correctly applies the following steps:\n",
    "\n",
    "1) Filling holes\n",
    "2) Rescaling\n",
    "3) Classifier"
   ]
  },
  {
   "cell_type": "markdown",
   "id": "72c3f5c1-9702-4bca-b8c6-38505c6d240e",
   "metadata": {},
   "source": [
    "## 2.3 Column datatype"
   ]
  },
  {
   "cell_type": "code",
   "execution_count": 7,
   "id": "d72c528a-4240-4b26-b36e-d1b224f27fc5",
   "metadata": {},
   "outputs": [],
   "source": [
    "df['Settore Prevalente'] = df['Settore Prevalente'].astype(str)"
   ]
  },
  {
   "cell_type": "markdown",
   "id": "0ad52be8-ce63-42bb-803e-609dd22cb784",
   "metadata": {},
   "source": [
    "# 3.0 Output\n",
    "\n",
    "Let's pass to the modeling phase"
   ]
  },
  {
   "cell_type": "code",
   "execution_count": 9,
   "id": "e1cff405-5e07-42bf-8082-42777d716b1b",
   "metadata": {},
   "outputs": [],
   "source": [
    "df.to_pickle('../output/df_prep.pkl')"
   ]
  },
  {
   "cell_type": "code",
   "execution_count": null,
   "id": "00c61710-6f8c-46e4-845e-7e9b4bafe2f7",
   "metadata": {},
   "outputs": [],
   "source": []
  }
 ],
 "metadata": {
  "kernelspec": {
   "display_name": "Python 3.7.3 64-bit",
   "language": "python",
   "name": "python37364bitf15ffc4a8398405aa0d2ca018641a255"
  },
  "language_info": {
   "codemirror_mode": {
    "name": "ipython",
    "version": 3
   },
   "file_extension": ".py",
   "mimetype": "text/x-python",
   "name": "python",
   "nbconvert_exporter": "python",
   "pygments_lexer": "ipython3",
   "version": "3.7.3"
  }
 },
 "nbformat": 4,
 "nbformat_minor": 5
}
